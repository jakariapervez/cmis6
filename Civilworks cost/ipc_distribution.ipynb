{
 "cells": [
  {
   "cell_type": "code",
   "execution_count": 1,
   "metadata": {},
   "outputs": [],
   "source": [
    "import pandas as pd"
   ]
  },
  {
   "cell_type": "code",
   "execution_count": 2,
   "metadata": {},
   "outputs": [],
   "source": [
    "def saveDataFrame(dataframes,filepath,names):\n",
    "    writer = pd.ExcelWriter(filepath, engine='xlsxwriter')\n",
    "    for df,sname in zip(dataframes,names):\n",
    "        df.to_excel(writer,sheet_name=sname)   \n",
    "    writer.save()"
   ]
  },
  {
   "cell_type": "code",
   "execution_count": 3,
   "metadata": {},
   "outputs": [],
   "source": [
    "\"\"\"processing related codes\"\"\"\n",
    "def initializeFrames(df):\n",
    "    for col in df.columns:\n",
    "        if col !='IPCNo':\n",
    "            df[col].values[:] = 0\n",
    "    return df\n",
    "\"\"\"Calculate Distribution Factor\"\"\"\n",
    "def calcualteTotalBill(df):\n",
    "    for index,row in df.iterrows():\n",
    "        total=row['Gob']+row['Rpa']\n",
    "        print(total)\n",
    "        df.iloc[index,11]=total\n",
    "    return df\n",
    "\"\"\"Calcualte Distribution Factor\"\"\"\n",
    "def calcualteTotalBill(df):\n",
    "    for index,row in df.iterrows():\n",
    "        total=row['Gob']+row['Rpa']\n",
    "        print(total)\n",
    "        df.iloc[index,11]=total\n",
    "    return df\n",
    "def calcualteDistributionFactor(df1,df2):\n",
    "    for index,row in df1.iterrows():\n",
    "        total=row['Total']\n",
    "        for i in range(1,11):\n",
    "            df2.iloc[index,i]=df1.iloc[index,i]/total\n",
    "    return df2\n",
    "def calculateDistributedValueGob(df1,df2,df3):\n",
    "    for index,row in df1.iterrows():\n",
    "        dtotal=0\n",
    "        total=row['Gob']\n",
    "        for i in range(1,11):\n",
    "            distributed_val=round(df2.iloc[index,i]*total,2)\n",
    "            dtotal+=distributed_val\n",
    "            df3.iloc[index,i]=distributed_val\n",
    "        df3.iloc[index,11]=dtotal\n",
    "    return df3\n",
    "def calculateDistributedValueRpa(df1,df2,df3):\n",
    "    for index,row in df1.iterrows():\n",
    "        dtotal=0\n",
    "        total=row['Rpa']\n",
    "        for i in range(1,11):\n",
    "            distributed_val=round(df2.iloc[index,i]*total,2)\n",
    "            dtotal+=distributed_val\n",
    "            df3.iloc[index,i]=distributed_val\n",
    "        df3.iloc[index,11]=dtotal\n",
    "    return df3"
   ]
  },
  {
   "cell_type": "code",
   "execution_count": 4,
   "metadata": {},
   "outputs": [],
   "source": [
    "input_path=r'F:\\website\\cmis6\\Civilworks cost\\IPC Distribution.xlsx'\n",
    "output_path=r'F:\\website\\cmis6\\Civilworks cost\\output.xlsx'"
   ]
  },
  {
   "cell_type": "code",
   "execution_count": 5,
   "metadata": {},
   "outputs": [],
   "source": [
    "sheetName='IPC_Dist'\n",
    "mydf=pd.read_excel(input_path,sheet_name=sheetName)\n",
    "mydf.fillna(0,inplace=True)\n",
    "dist_df=mydf.copy(deep=True)\n",
    "rpa_df=mydf.copy(deep=True)\n",
    "gob_df=mydf.copy(deep=True)\n",
    "dist_df=dist_df.drop(['Gob','Rpa'],axis=1)\n",
    "rpa_df=rpa_df.drop(['Gob','Rpa'],axis=1)\n",
    "gob_df=gob_df.drop(['Gob','Rpa'],axis=1)"
   ]
  },
  {
   "cell_type": "code",
   "execution_count": 6,
   "metadata": {},
   "outputs": [
    {
     "name": "stdout",
     "output_type": "stream",
     "text": [
      "19538364\n"
     ]
    }
   ],
   "source": [
    "\"\"\"Initializing frames\"\"\"\n",
    "dist_df=initializeFrames(dist_df)\n",
    "rpa_df=initializeFrames(rpa_df)\n",
    "gob_df=initializeFrames(gob_df)\n",
    "mydf=calcualteTotalBill(mydf)\n",
    "dist_df=calcualteDistributionFactor(mydf,dist_df)\n",
    "gob_df=calculateDistributedValueGob(mydf,dist_df,gob_df)\n",
    "rpa_df=calculateDistributedValueRpa(mydf,dist_df,rpa_df)"
   ]
  },
  {
   "cell_type": "code",
   "execution_count": 7,
   "metadata": {},
   "outputs": [
    {
     "data": {
      "text/html": [
       "<div>\n",
       "<style scoped>\n",
       "    .dataframe tbody tr th:only-of-type {\n",
       "        vertical-align: middle;\n",
       "    }\n",
       "\n",
       "    .dataframe tbody tr th {\n",
       "        vertical-align: top;\n",
       "    }\n",
       "\n",
       "    .dataframe thead th {\n",
       "        text-align: right;\n",
       "    }\n",
       "</style>\n",
       "<table border=\"1\" class=\"dataframe\">\n",
       "  <thead>\n",
       "    <tr style=\"text-align: right;\">\n",
       "      <th></th>\n",
       "      <th>IPCNo</th>\n",
       "      <th>Inlet</th>\n",
       "      <th>Reg_Rehab_Rehab</th>\n",
       "      <th>Reg_CW_Box</th>\n",
       "      <th>Khal_Riv_New</th>\n",
       "      <th>Khal_Riv_Rehab</th>\n",
       "      <th>Full_Emb_Rehab</th>\n",
       "      <th>Sub_Emb_Rehab</th>\n",
       "      <th>Sub_Emb_Const</th>\n",
       "      <th>Reg_Rehab_New</th>\n",
       "      <th>Wmg_Office</th>\n",
       "      <th>Total</th>\n",
       "      <th>Gob</th>\n",
       "      <th>Rpa</th>\n",
       "    </tr>\n",
       "  </thead>\n",
       "  <tbody>\n",
       "    <tr>\n",
       "      <th>0</th>\n",
       "      <td>156/SUNM-01 4th RA Bill</td>\n",
       "      <td>0.0</td>\n",
       "      <td>0.0</td>\n",
       "      <td>10121557.06</td>\n",
       "      <td>0.0</td>\n",
       "      <td>0.0</td>\n",
       "      <td>0.0</td>\n",
       "      <td>0.0</td>\n",
       "      <td>9416806.852</td>\n",
       "      <td>0.0</td>\n",
       "      <td>0.0</td>\n",
       "      <td>19538364.0</td>\n",
       "      <td>2442296</td>\n",
       "      <td>17096068</td>\n",
       "    </tr>\n",
       "  </tbody>\n",
       "</table>\n",
       "</div>"
      ],
      "text/plain": [
       "                     IPCNo  Inlet  Reg_Rehab_Rehab   Reg_CW_Box  Khal_Riv_New  \\\n",
       "0  156/SUNM-01 4th RA Bill    0.0              0.0  10121557.06           0.0   \n",
       "\n",
       "   Khal_Riv_Rehab  Full_Emb_Rehab  Sub_Emb_Rehab  Sub_Emb_Const  \\\n",
       "0             0.0             0.0            0.0    9416806.852   \n",
       "\n",
       "   Reg_Rehab_New  Wmg_Office       Total      Gob       Rpa  \n",
       "0            0.0         0.0  19538364.0  2442296  17096068  "
      ]
     },
     "execution_count": 7,
     "metadata": {},
     "output_type": "execute_result"
    }
   ],
   "source": [
    "mydf"
   ]
  },
  {
   "cell_type": "code",
   "execution_count": 8,
   "metadata": {},
   "outputs": [],
   "source": [
    "frames=[]\n",
    "names=[]\n",
    "frames.append(mydf)\n",
    "frames.append(dist_df)\n",
    "frames.append(rpa_df)\n",
    "frames.append(gob_df)\n",
    "names.append('original')\n",
    "names.append('dfactor')\n",
    "names.append(\"rpa\")\n",
    "names.append(\"gob\")\n",
    "saveDataFrame(frames,output_path,names)"
   ]
  },
  {
   "cell_type": "code",
   "execution_count": null,
   "metadata": {},
   "outputs": [],
   "source": []
  }
 ],
 "metadata": {
  "kernelspec": {
   "display_name": "Python [conda env:.conda-gisenv] *",
   "language": "python",
   "name": "conda-env-.conda-gisenv-py"
  },
  "language_info": {
   "codemirror_mode": {
    "name": "ipython",
    "version": 3
   },
   "file_extension": ".py",
   "mimetype": "text/x-python",
   "name": "python",
   "nbconvert_exporter": "python",
   "pygments_lexer": "ipython3",
   "version": "3.7.7"
  }
 },
 "nbformat": 4,
 "nbformat_minor": 4
}
