{
 "cells": [
  {
   "cell_type": "code",
   "execution_count": null,
   "metadata": {},
   "outputs": [],
   "source": [
    "import pandas as pd"
   ]
  },
  {
   "cell_type": "code",
   "execution_count": null,
   "metadata": {},
   "outputs": [],
   "source": [
    "def saveDataFrame(dataframes,filepath,names):\n",
    "    writer = pd.ExcelWriter(filepath, engine='xlsxwriter')\n",
    "    for df,sname in zip(dataframes,names):\n",
    "        df.to_excel(writer,sheet_name=sname)   \n",
    "    writer.save()"
   ]
  },
  {
   "cell_type": "code",
   "execution_count": null,
   "metadata": {},
   "outputs": [],
   "source": [
    "\"\"\"processing related codes\"\"\"\n",
    "def initializeFrames(df):\n",
    "    for col in df.columns:\n",
    "        if col !='IPCNo':\n",
    "            df[col].values[:] = 0\n",
    "    return df\n",
    "\"\"\"Calculate Distribution Factor\"\"\"\n",
    "def calcualteTotalBill(df):\n",
    "    for index,row in df.iterrows():\n",
    "        dtotal=0\n",
    "        for i in range(2,13):\n",
    "            dtotal+=df.iloc[index,i]\n",
    "            \n",
    "        #total=row['Gob']+row['Rpa']\n",
    "        #print(total)\n",
    "        df.iloc[index,13]=dtotal\n",
    "    return df\n",
    "\"\"\"Calcualte Distribution Factor\"\"\"\n",
    "def calcualteTotalBill2(df):\n",
    "    for index,row in df.iterrows():\n",
    "        total=row['Gob']+row['Rpa']\n",
    "        #print(total)\n",
    "        df.iloc[index,13]=total\n",
    "    return df\n",
    "def calcualteDistributionFactor(df1,df2):\n",
    "    for index,row in df1.iterrows():\n",
    "        #print(row['id'])\n",
    "        total=row['Total']\n",
    "        dtotal=0\n",
    "        for i in range(2,13):\n",
    "            dv=df1.iloc[index,i]/total\n",
    "            df2.iloc[index,i]=dv\n",
    "            dtotal+=dv\n",
    "        df2.iloc[index,13]=dtotal\n",
    "    return df2\n",
    "def calculateDistributedValueGob(df1,df2,df3):\n",
    "    for index,row in df1.iterrows():\n",
    "        dtotal=0\n",
    "        total=row['Gob']\n",
    "        for i in range(2,13):\n",
    "            distributed_val=round(df2.iloc[index,i]*total,2)\n",
    "            dtotal+=distributed_val\n",
    "            df3.iloc[index,i]=distributed_val\n",
    "        df3.iloc[index,13]=dtotal\n",
    "    return df3\n",
    "def calculateDistributedValueRpa(df1,df2,df3):\n",
    "    for index,row in df1.iterrows():\n",
    "        dtotal=0\n",
    "        total=row['Rpa']\n",
    "        for i in range(2,13):\n",
    "            distributed_val=round(df2.iloc[index,i]*total,2)\n",
    "            dtotal+=distributed_val\n",
    "            df3.iloc[index,i]=distributed_val\n",
    "        df3.iloc[index,13]=dtotal\n",
    "    return df3"
   ]
  },
  {
   "cell_type": "code",
   "execution_count": null,
   "metadata": {},
   "outputs": [],
   "source": [
    "input_path=r'F:\\website\\cmis6\\Civilworks cost\\IPC Distribution.xlsx'\n",
    "output_path=r'F:\\website\\cmis6\\Civilworks cost\\output.xlsx'"
   ]
  },
  {
   "cell_type": "code",
   "execution_count": null,
   "metadata": {},
   "outputs": [],
   "source": [
    "sheetName='IPC_Dist'\n",
    "mydf=pd.read_excel(input_path,sheet_name=sheetName)\n",
    "mydf.fillna(0,inplace=True)\n",
    "dist_df=mydf.copy(deep=True)\n",
    "rpa_df=mydf.copy(deep=True)\n",
    "gob_df=mydf.copy(deep=True)\n",
    "dist_df=dist_df.drop(['Gob','Rpa'],axis=1)\n",
    "rpa_df=rpa_df.drop(['Gob','Rpa'],axis=1)\n",
    "gob_df=gob_df.drop(['Gob','Rpa'],axis=1)"
   ]
  },
  {
   "cell_type": "code",
   "execution_count": null,
   "metadata": {},
   "outputs": [],
   "source": [
    "\"\"\"Initializing frames\"\"\"\n",
    "dist_df=initializeFrames(dist_df)\n",
    "rpa_df=initializeFrames(rpa_df)\n",
    "gob_df=initializeFrames(gob_df)\n",
    "mydf=calcualteTotalBill(mydf)\n",
    "dist_df=calcualteDistributionFactor(mydf,dist_df)\n",
    "gob_df=calculateDistributedValueGob(mydf,dist_df,gob_df)\n",
    "rpa_df=calculateDistributedValueRpa(mydf,dist_df,rpa_df)\n"
   ]
  },
  {
   "cell_type": "code",
   "execution_count": null,
   "metadata": {},
   "outputs": [],
   "source": [
    "frames=[]\n",
    "names=[]\n",
    "frames.append(mydf)\n",
    "frames.append(dist_df)\n",
    "frames.append(rpa_df)\n",
    "frames.append(gob_df)\n",
    "names.append('original')\n",
    "names.append('dfactor')\n",
    "names.append(\"rpa\")\n",
    "names.append(\"gob\")\n",
    "saveDataFrame(frames,output_path,names)"
   ]
  },
  {
   "cell_type": "code",
   "execution_count": null,
   "metadata": {},
   "outputs": [],
   "source": []
  }
 ],
 "metadata": {
  "kernelspec": {
   "display_name": "Python [conda env:.conda-gisenv] *",
   "language": "python",
   "name": "conda-env-.conda-gisenv-py"
  },
  "language_info": {
   "codemirror_mode": {
    "name": "ipython",
    "version": 3
   },
   "file_extension": ".py",
   "mimetype": "text/x-python",
   "name": "python",
   "nbconvert_exporter": "python",
   "pygments_lexer": "ipython3",
   "version": "3.7.7"
  }
 },
 "nbformat": 4,
 "nbformat_minor": 4
}
