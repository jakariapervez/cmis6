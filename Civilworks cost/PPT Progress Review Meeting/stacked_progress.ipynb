{
 "cells": [
  {
   "cell_type": "code",
   "execution_count": 1,
   "metadata": {},
   "outputs": [],
   "source": [
    "import pandas as pd\n",
    "import os\n",
    "import matplotlib.pyplot as plt"
   ]
  },
  {
   "cell_type": "code",
   "execution_count": 2,
   "metadata": {},
   "outputs": [],
   "source": [
    "\"\"\"settingup matplotlib for jupyter notebook\"\"\"\n",
    "import mpld3\n",
    "mpld3.enable_notebook()\n",
    "plt.rcParams['figure.figsize']=[9.5,6]"
   ]
  },
  {
   "cell_type": "code",
   "execution_count": 3,
   "metadata": {},
   "outputs": [],
   "source": [
    "def saveDataFrame(dataframes,filepath,names):\n",
    "    writer = pd.ExcelWriter(filepath, engine='xlsxwriter')\n",
    "    for df,sname in zip(dataframes,names):\n",
    "        df.to_excel(writer,sheet_name=sname)   \n",
    "    writer.save()"
   ]
  },
  {
   "cell_type": "code",
   "execution_count": 4,
   "metadata": {},
   "outputs": [],
   "source": [
    "def autolabel(rects,ax):\n",
    "    \"\"\"\n",
    "    Attach a text label above each bar displaying its height\n",
    "    \"\"\"\n",
    "    for rect in rects:\n",
    "        height = rect.get_height()\n",
    "        ax.text(rect.get_x() + rect.get_width()/2., 1.05*height,\n",
    "                '%d' % int(height),\n",
    "                ha='center', va='bottom')\n",
    "def drawGraph(cdf,rdf,figpath):\n",
    "    mycols=list(cdf.columns)\n",
    "    labels= mycols[3:]\n",
    "    ylabel=cdf.iloc[0,1]\n",
    "    completed=list(cdf.iloc[0,3:])\n",
    "    remaining=list(rdf.iloc[0,3:])\n",
    "    fig,ax=plt.subplots()\n",
    "    width=0.75\n",
    "    xvals=[1,2,3,4,5,6,7,8]\n",
    "    rects1=ax.bar(xvals,completed,width,label=\"complted\")\n",
    "    rects2=ax.bar(xvals,remaining,width,bottom=completed,label=\"remaining\")\n",
    "    plt.xticks(xvals,labels)\n",
    "    ax.set_ylabel(completed)\n",
    "    #ax.yaxis.grid()\n",
    "    #ax.legend()\n",
    "    autolabel(rects1,ax)\n",
    "    #autolabel(rects2,ax)\n",
    "    plt.ylabel(completed)\n",
    "    plt.show()\n",
    "    print(labels)\n",
    "    #print(vals)\n",
    "    plt.savefig(figpath)\n",
    "def calcualteRmainingDf(indf):\n",
    "    out_df=indf.copy(deep=True)\n",
    "    for index,row in indf.iterrows():\n",
    "        total=indf.iloc[index,2]\n",
    "        for i in range(3,11):\n",
    "            out_df.iloc[index,i]=total-indf.iloc[index,i]\n",
    "    return out_df"
   ]
  },
  {
   "cell_type": "code",
   "execution_count": 5,
   "metadata": {},
   "outputs": [
    {
     "name": "stdout",
     "output_type": "stream",
     "text": [
      "E:\\Website_26_07_2020\\cmis6\\Civilworks cost\\PPT Progress Review Meeting\\Component Wise Cost Brackup_ 08.11.2020.xlsx\n"
     ]
    },
    {
     "name": "stderr",
     "output_type": "stream",
     "text": [
      "C:\\Users\\Home\\.conda\\envs\\gisenv\\lib\\site-packages\\mpld3\\_display.py:138: DeprecationWarning: np.asscalar(a) is deprecated since NumPy v1.16, use a.item() instead\n",
      "  return numpy.asscalar(obj)\n",
      "C:\\Users\\Home\\.conda\\envs\\gisenv\\lib\\site-packages\\mpld3\\_display.py:138: DeprecationWarning: np.asscalar(a) is deprecated since NumPy v1.16, use a.item() instead\n",
      "  return numpy.asscalar(obj)\n",
      "C:\\Users\\Home\\.conda\\envs\\gisenv\\lib\\site-packages\\mpld3\\_display.py:138: DeprecationWarning: np.asscalar(a) is deprecated since NumPy v1.16, use a.item() instead\n",
      "  return numpy.asscalar(obj)\n",
      "C:\\Users\\Home\\.conda\\envs\\gisenv\\lib\\site-packages\\mpld3\\_display.py:138: DeprecationWarning: np.asscalar(a) is deprecated since NumPy v1.16, use a.item() instead\n",
      "  return numpy.asscalar(obj)\n",
      "C:\\Users\\Home\\.conda\\envs\\gisenv\\lib\\site-packages\\mpld3\\_display.py:138: DeprecationWarning: np.asscalar(a) is deprecated since NumPy v1.16, use a.item() instead\n",
      "  return numpy.asscalar(obj)\n",
      "C:\\Users\\Home\\.conda\\envs\\gisenv\\lib\\site-packages\\mpld3\\_display.py:138: DeprecationWarning: np.asscalar(a) is deprecated since NumPy v1.16, use a.item() instead\n",
      "  return numpy.asscalar(obj)\n",
      "C:\\Users\\Home\\.conda\\envs\\gisenv\\lib\\site-packages\\mpld3\\_display.py:138: DeprecationWarning: np.asscalar(a) is deprecated since NumPy v1.16, use a.item() instead\n",
      "  return numpy.asscalar(obj)\n",
      "C:\\Users\\Home\\.conda\\envs\\gisenv\\lib\\site-packages\\mpld3\\_display.py:138: DeprecationWarning: np.asscalar(a) is deprecated since NumPy v1.16, use a.item() instead\n",
      "  return numpy.asscalar(obj)\n"
     ]
    },
    {
     "data": {
      "image/png": "[encoded data removed]",
      "text/html": [
       "\n",
       "\n",
       "<style>\n",
       "\n",
       "</style>\n",
       "\n",
       "<div id=\"fig_el174819810259724886884542160\"></div>\n",
       "<script>\n",
       "function mpld3_load_lib(url, callback){\n",
       "  var s = document.createElement('script');\n",
       "  s.src = url;\n",
       "  s.async = true;\n",
       "  s.onreadystatechange = s.onload = callback;\n",
       "  s.onerror = function(){console.warn(\"failed to load library \" + url);};\n",
       "  document.getElementsByTagName(\"head\")[0].appendChild(s);\n",
       "}\n",
       "\n",
       "if(typeof(mpld3) !== \"undefined\" && mpld3._mpld3IsLoaded){\n",
       "   // already loaded: just create the figure\n",
       "   !function(mpld3){\n",
       "       \n",
       "       mpld3.draw_figure(\"fig_el174819810259724886884542160\", {\"width\": 684.0, \"height\": 432.0, \"axes\": [{\"bbox\": [0.125, 0.125, 0.775, 0.755], \"xlim\": [0.2375, 8.7625], \"ylim\": [0.0, 116.0], \"xdomain\": [0.2375, 8.7625], \"ydomain\": [0.0, 116.0], \"xscale\": \"linear\", \"yscale\": \"linear\", \"axes\": [{\"position\": \"bottom\", \"nticks\": 8, \"tickvalues\": [1, 2, 3, 4, 5, 6, 7, 8], \"tickformat_formatter\": \"fixed\", \"tickformat\": [\"2014-15\", \"2015-16\", \"2016-17\", \"2017-18\", \"2018-19\", \"2019-20\", \"2020-21\", \"2021-22\"], \"scale\": \"linear\", \"fontsize\": 10.0, \"grid\": {\"gridOn\": false}, \"visible\": true}, {\"position\": \"left\", \"nticks\": 7, \"tickvalues\": null, \"tickformat_formatter\": \"\", \"tickformat\": null, \"scale\": \"linear\", \"fontsize\": 10.0, \"grid\": {\"gridOn\": false}, \"visible\": true}], \"axesbg\": \"#FFFFFF\", \"axesbgalpha\": null, \"zoomable\": true, \"id\": \"el17481981033627976\", \"lines\": [], \"paths\": [{\"data\": \"data01\", \"xindex\": 0, \"yindex\": 1, \"coordinates\": \"data\", \"pathcodes\": [\"M\", \"L\", \"L\", \"L\", \"Z\"], \"id\": \"el17481981033777608\", \"dasharray\": \"none\", \"alpha\": 1, \"facecolor\": \"#1F77B4\", \"edgecolor\": \"none\", \"edgewidth\": 1.0, \"zorder\": 1}, {\"data\": \"data01\", \"xindex\": 2, \"yindex\": 1, \"coordinates\": \"data\", \"pathcodes\": [\"M\", \"L\", \"L\", \"L\", \"Z\"], \"id\": \"el17481981033797320\", \"dasharray\": \"none\", \"alpha\": 1, \"facecolor\": \"#1F77B4\", \"edgecolor\": \"none\", \"edgewidth\": 1.0, \"zorder\": 1}, {\"data\": \"data01\", \"xindex\": 3, \"yindex\": 1, \"coordinates\": \"data\", \"pathcodes\": [\"M\", \"L\", \"L\", \"L\", \"Z\"], \"id\": \"el17481981033775880\", \"dasharray\": \"none\", \"alpha\": 1, \"facecolor\": \"#1F77B4\", \"edgecolor\": \"none\", \"edgewidth\": 1.0, \"zorder\": 1}, {\"data\": \"data01\", \"xindex\": 4, \"yindex\": 1, \"coordinates\": \"data\", \"pathcodes\": [\"M\", \"L\", \"L\", \"L\", \"Z\"], \"id\": \"el17481981033775560\", \"dasharray\": \"none\", \"alpha\": 1, \"facecolor\": \"#1F77B4\", \"edgecolor\": \"none\", \"edgewidth\": 1.0, \"zorder\": 1}, {\"data\": \"data02\", \"xindex\": 0, \"yindex\": 1, \"coordinates\": \"data\", \"pathcodes\": [\"M\", \"L\", \"L\", \"L\", \"Z\"], \"id\": \"el17481981033769672\", \"dasharray\": \"none\", \"alpha\": 1, \"facecolor\": \"#1F77B4\", \"edgecolor\": \"none\", \"edgewidth\": 1.0, \"zorder\": 1}, {\"data\": \"data03\", \"xindex\": 0, \"yindex\": 1, \"coordinates\": \"data\", \"pathcodes\": [\"M\", \"L\", \"L\", \"L\", \"Z\"], \"id\": \"el17481981033767240\", \"dasharray\": \"none\", \"alpha\": 1, \"facecolor\": \"#1F77B4\", \"edgecolor\": \"none\", \"edgewidth\": 1.0, \"zorder\": 1}, {\"data\": \"data04\", \"xindex\": 0, \"yindex\": 1, \"coordinates\": \"data\", \"pathcodes\": [\"M\", \"L\", \"L\", \"L\", \"Z\"], \"id\": \"el17481981033767496\", \"dasharray\": \"none\", \"alpha\": 1, \"facecolor\": \"#1F77B4\", \"edgecolor\": \"none\", \"edgewidth\": 1.0, \"zorder\": 1}, {\"data\": \"data05\", \"xindex\": 0, \"yindex\": 1, \"coordinates\": \"data\", \"pathcodes\": [\"M\", \"L\", \"L\", \"L\", \"Z\"], \"id\": \"el17481981033767560\", \"dasharray\": \"none\", \"alpha\": 1, \"facecolor\": \"#1F77B4\", \"edgecolor\": \"none\", \"edgewidth\": 1.0, \"zorder\": 1}, {\"data\": \"data01\", \"xindex\": 0, \"yindex\": 5, \"coordinates\": \"data\", \"pathcodes\": [\"M\", \"L\", \"L\", \"L\", \"Z\"], \"id\": \"el17481981032289992\", \"dasharray\": \"none\", \"alpha\": 1, \"facecolor\": \"#FF7F0E\", \"edgecolor\": \"none\", \"edgewidth\": 1.0, \"zorder\": 1}, {\"data\": \"data01\", \"xindex\": 2, \"yindex\": 5, \"coordinates\": \"data\", \"pathcodes\": [\"M\", \"L\", \"L\", \"L\", \"Z\"], \"id\": \"el17481981033796168\", \"dasharray\": \"none\", \"alpha\": 1, \"facecolor\": \"#FF7F0E\", \"edgecolor\": \"none\", \"edgewidth\": 1.0, \"zorder\": 1}, {\"data\": \"data01\", \"xindex\": 3, \"yindex\": 5, \"coordinates\": \"data\", \"pathcodes\": [\"M\", \"L\", \"L\", \"L\", \"Z\"], \"id\": \"el17481981033759240\", \"dasharray\": \"none\", \"alpha\": 1, \"facecolor\": \"#FF7F0E\", \"edgecolor\": \"none\", \"edgewidth\": 1.0, \"zorder\": 1}, {\"data\": \"data01\", \"xindex\": 4, \"yindex\": 5, \"coordinates\": \"data\", \"pathcodes\": [\"M\", \"L\", \"L\", \"L\", \"Z\"], \"id\": \"el17481981033751496\", \"dasharray\": \"none\", \"alpha\": 1, \"facecolor\": \"#FF7F0E\", \"edgecolor\": \"none\", \"edgewidth\": 1.0, \"zorder\": 1}, {\"data\": \"data02\", \"xindex\": 0, \"yindex\": 2, \"coordinates\": \"data\", \"pathcodes\": [\"M\", \"L\", \"L\", \"L\", \"Z\"], \"id\": \"el17481981033752840\", \"dasharray\": \"none\", \"alpha\": 1, \"facecolor\": \"#FF7F0E\", \"edgecolor\": \"none\", \"edgewidth\": 1.0, \"zorder\": 1}, {\"data\": \"data03\", \"xindex\": 0, \"yindex\": 2, \"coordinates\": \"data\", \"pathcodes\": [\"M\", \"L\", \"L\", \"L\", \"Z\"], \"id\": \"el17481981033704200\", \"dasharray\": \"none\", \"alpha\": 1, \"facecolor\": \"#FF7F0E\", \"edgecolor\": \"none\", \"edgewidth\": 1.0, \"zorder\": 1}, {\"data\": \"data04\", \"xindex\": 0, \"yindex\": 2, \"coordinates\": \"data\", \"pathcodes\": [\"M\", \"L\", \"L\", \"L\", \"Z\"], \"id\": \"el17481981033704776\", \"dasharray\": \"none\", \"alpha\": 1, \"facecolor\": \"#FF7F0E\", \"edgecolor\": \"none\", \"edgewidth\": 1.0, \"zorder\": 1}, {\"data\": \"data05\", \"xindex\": 0, \"yindex\": 2, \"coordinates\": \"data\", \"pathcodes\": [\"M\", \"L\", \"L\", \"L\", \"Z\"], \"id\": \"el17481981033703624\", \"dasharray\": \"none\", \"alpha\": 1, \"facecolor\": \"#FF7F0E\", \"edgecolor\": \"none\", \"edgewidth\": 1.0, \"zorder\": 1}], \"markers\": [], \"texts\": [{\"text\": \"0\", \"position\": [1.0, 0.0], \"coordinates\": \"data\", \"h_anchor\": \"middle\", \"v_baseline\": \"auto\", \"rotation\": -0.0, \"fontsize\": 10.0, \"color\": \"#000000\", \"alpha\": 1, \"zorder\": 3, \"id\": \"el17481981034000904\"}, {\"text\": \"0\", \"position\": [2.0, 0.0], \"coordinates\": \"data\", \"h_anchor\": \"middle\", \"v_baseline\": \"auto\", \"rotation\": -0.0, \"fontsize\": 10.0, \"color\": \"#000000\", \"alpha\": 1, \"zorder\": 3, \"id\": \"el17481981034003784\"}, {\"text\": \"0\", \"position\": [3.0, 0.0], \"coordinates\": \"data\", \"h_anchor\": \"middle\", \"v_baseline\": \"auto\", \"rotation\": -0.0, \"fontsize\": 10.0, \"color\": \"#000000\", \"alpha\": 1, \"zorder\": 3, \"id\": \"el17481981034003976\"}, {\"text\": \"0\", \"position\": [4.0, 0.0], \"coordinates\": \"data\", \"h_anchor\": \"middle\", \"v_baseline\": \"auto\", \"rotation\": -0.0, \"fontsize\": 10.0, \"color\": \"#000000\", \"alpha\": 1, \"zorder\": 3, \"id\": \"el17481981033863240\"}, {\"text\": \"17\", \"position\": [5.0, 17.85], \"coordinates\": \"data\", \"h_anchor\": \"middle\", \"v_baseline\": \"auto\", \"rotation\": -0.0, \"fontsize\": 10.0, \"color\": \"#000000\", \"alpha\": 1, \"zorder\": 3, \"id\": \"el17481981033861896\"}, {\"text\": \"45\", \"position\": [6.0, 47.25], \"coordinates\": \"data\", \"h_anchor\": \"middle\", \"v_baseline\": \"auto\", \"rotation\": -0.0, \"fontsize\": 10.0, \"color\": \"#000000\", \"alpha\": 1, \"zorder\": 3, \"id\": \"el17481981033862152\"}, {\"text\": \"95\", \"position\": [7.0, 99.75], \"coordinates\": \"data\", \"h_anchor\": \"middle\", \"v_baseline\": \"auto\", \"rotation\": -0.0, \"fontsize\": 10.0, \"color\": \"#000000\", \"alpha\": 1, \"zorder\": 3, \"id\": \"el17481981033855496\"}, {\"text\": \"116\", \"position\": [8.0, 121.80000000000001], \"coordinates\": \"data\", \"h_anchor\": \"middle\", \"v_baseline\": \"auto\", \"rotation\": -0.0, \"fontsize\": 10.0, \"color\": \"#000000\", \"alpha\": 1, \"zorder\": 3, \"id\": \"el17481981033853384\"}, {\"text\": \"[0, 0, 0, 0, 17, 45, 95.0, 116.0]\", \"position\": [-0.05682890020750801, 0.5], \"coordinates\": \"axes\", \"h_anchor\": \"middle\", \"v_baseline\": \"auto\", \"rotation\": -90.0, \"fontsize\": 10.0, \"color\": \"#000000\", \"alpha\": 1, \"zorder\": 3, \"id\": \"el17481981033899976\"}], \"collections\": [], \"images\": [], \"sharex\": [], \"sharey\": []}], \"data\": {\"data01\": [[0.625, 0.0, 1.625, 2.625, 3.625, 0.0], [1.375, 0.0, 2.375, 3.375, 4.375, 0.0], [1.375, 0.0, 2.375, 3.375, 4.375, 116.0], [0.625, 0.0, 1.625, 2.625, 3.625, 116.0]], \"data02\": [[4.625, 0.0, 17.0], [5.375, 0.0, 17.0], [5.375, 17.0, 116.0], [4.625, 17.0, 116.0]], \"data03\": [[5.625, 0.0, 45.0], [6.375, 0.0, 45.0], [6.375, 45.0, 116.0], [5.625, 45.0, 116.0]], \"data04\": [[6.625, 0.0, 95.0], [7.375, 0.0, 95.0], [7.375, 95.0, 116.0], [6.625, 95.0, 116.0]], \"data05\": [[7.625, 0.0, 116.0], [8.375, 0.0, 116.0], [8.375, 116.0, 116.0], [7.625, 116.0, 116.0]]}, \"id\": \"el17481981025972488\", \"plugins\": [{\"type\": \"reset\"}, {\"type\": \"zoom\", \"button\": true, \"enabled\": false}, {\"type\": \"boxzoom\", \"button\": true, \"enabled\": false}]});\n",
       "   }(mpld3);\n",
       "}else if(typeof define === \"function\" && define.amd){\n",
       "   // require.js is available: use it to load d3/mpld3\n",
       "   require.config({paths: {d3: \"https://d3js.org/d3.v5\"}});\n",
       "   require([\"d3\"], function(d3){\n",
       "      window.d3 = d3;\n",
       "      mpld3_load_lib(\"https://mpld3.github.io/js/mpld3.v0.5.1.js\", function(){\n",
       "         \n",
       "         mpld3.draw_figure(\"fig_el174819810259724886884542160\", {\"width\": 684.0, \"height\": 432.0, \"axes\": [{\"bbox\": [0.125, 0.125, 0.775, 0.755], \"xlim\": [0.2375, 8.7625], \"ylim\": [0.0, 116.0], \"xdomain\": [0.2375, 8.7625], \"ydomain\": [0.0, 116.0], \"xscale\": \"linear\", \"yscale\": \"linear\", \"axes\": [{\"position\": \"bottom\", \"nticks\": 8, \"tickvalues\": [1, 2, 3, 4, 5, 6, 7, 8], \"tickformat_formatter\": \"fixed\", \"tickformat\": [\"2014-15\", \"2015-16\", \"2016-17\", \"2017-18\", \"2018-19\", \"2019-20\", \"2020-21\", \"2021-22\"], \"scale\": \"linear\", \"fontsize\": 10.0, \"grid\": {\"gridOn\": false}, \"visible\": true}, {\"position\": \"left\", \"nticks\": 7, \"tickvalues\": null, \"tickformat_formatter\": \"\", \"tickformat\": null, \"scale\": \"linear\", \"fontsize\": 10.0, \"grid\": {\"gridOn\": false}, \"visible\": true}], \"axesbg\": \"#FFFFFF\", \"axesbgalpha\": null, \"zoomable\": true, \"id\": \"el17481981033627976\", \"lines\": [], \"paths\": [{\"data\": \"data01\", \"xindex\": 0, \"yindex\": 1, \"coordinates\": \"data\", \"pathcodes\": [\"M\", \"L\", \"L\", \"L\", \"Z\"], \"id\": \"el17481981033777608\", \"dasharray\": \"none\", \"alpha\": 1, \"facecolor\": \"#1F77B4\", \"edgecolor\": \"none\", \"edgewidth\": 1.0, \"zorder\": 1}, {\"data\": \"data01\", \"xindex\": 2, \"yindex\": 1, \"coordinates\": \"data\", \"pathcodes\": [\"M\", \"L\", \"L\", \"L\", \"Z\"], \"id\": \"el17481981033797320\", \"dasharray\": \"none\", \"alpha\": 1, \"facecolor\": \"#1F77B4\", \"edgecolor\": \"none\", \"edgewidth\": 1.0, \"zorder\": 1}, {\"data\": \"data01\", \"xindex\": 3, \"yindex\": 1, \"coordinates\": \"data\", \"pathcodes\": [\"M\", \"L\", \"L\", \"L\", \"Z\"], \"id\": \"el17481981033775880\", \"dasharray\": \"none\", \"alpha\": 1, \"facecolor\": \"#1F77B4\", \"edgecolor\": \"none\", \"edgewidth\": 1.0, \"zorder\": 1}, {\"data\": \"data01\", \"xindex\": 4, \"yindex\": 1, \"coordinates\": \"data\", \"pathcodes\": [\"M\", \"L\", \"L\", \"L\", \"Z\"], \"id\": \"el17481981033775560\", \"dasharray\": \"none\", \"alpha\": 1, \"facecolor\": \"#1F77B4\", \"edgecolor\": \"none\", \"edgewidth\": 1.0, \"zorder\": 1}, {\"data\": \"data02\", \"xindex\": 0, \"yindex\": 1, \"coordinates\": \"data\", \"pathcodes\": [\"M\", \"L\", \"L\", \"L\", \"Z\"], \"id\": \"el17481981033769672\", \"dasharray\": \"none\", \"alpha\": 1, \"facecolor\": \"#1F77B4\", \"edgecolor\": \"none\", \"edgewidth\": 1.0, \"zorder\": 1}, {\"data\": \"data03\", \"xindex\": 0, \"yindex\": 1, \"coordinates\": \"data\", \"pathcodes\": [\"M\", \"L\", \"L\", \"L\", \"Z\"], \"id\": \"el17481981033767240\", \"dasharray\": \"none\", \"alpha\": 1, \"facecolor\": \"#1F77B4\", \"edgecolor\": \"none\", \"edgewidth\": 1.0, \"zorder\": 1}, {\"data\": \"data04\", \"xindex\": 0, \"yindex\": 1, \"coordinates\": \"data\", \"pathcodes\": [\"M\", \"L\", \"L\", \"L\", \"Z\"], \"id\": \"el17481981033767496\", \"dasharray\": \"none\", \"alpha\": 1, \"facecolor\": \"#1F77B4\", \"edgecolor\": \"none\", \"edgewidth\": 1.0, \"zorder\": 1}, {\"data\": \"data05\", \"xindex\": 0, \"yindex\": 1, \"coordinates\": \"data\", \"pathcodes\": [\"M\", \"L\", \"L\", \"L\", \"Z\"], \"id\": \"el17481981033767560\", \"dasharray\": \"none\", \"alpha\": 1, \"facecolor\": \"#1F77B4\", \"edgecolor\": \"none\", \"edgewidth\": 1.0, \"zorder\": 1}, {\"data\": \"data01\", \"xindex\": 0, \"yindex\": 5, \"coordinates\": \"data\", \"pathcodes\": [\"M\", \"L\", \"L\", \"L\", \"Z\"], \"id\": \"el17481981032289992\", \"dasharray\": \"none\", \"alpha\": 1, \"facecolor\": \"#FF7F0E\", \"edgecolor\": \"none\", \"edgewidth\": 1.0, \"zorder\": 1}, {\"data\": \"data01\", \"xindex\": 2, \"yindex\": 5, \"coordinates\": \"data\", \"pathcodes\": [\"M\", \"L\", \"L\", \"L\", \"Z\"], \"id\": \"el17481981033796168\", \"dasharray\": \"none\", \"alpha\": 1, \"facecolor\": \"#FF7F0E\", \"edgecolor\": \"none\", \"edgewidth\": 1.0, \"zorder\": 1}, {\"data\": \"data01\", \"xindex\": 3, \"yindex\": 5, \"coordinates\": \"data\", \"pathcodes\": [\"M\", \"L\", \"L\", \"L\", \"Z\"], \"id\": \"el17481981033759240\", \"dasharray\": \"none\", \"alpha\": 1, \"facecolor\": \"#FF7F0E\", \"edgecolor\": \"none\", \"edgewidth\": 1.0, \"zorder\": 1}, {\"data\": \"data01\", \"xindex\": 4, \"yindex\": 5, \"coordinates\": \"data\", \"pathcodes\": [\"M\", \"L\", \"L\", \"L\", \"Z\"], \"id\": \"el17481981033751496\", \"dasharray\": \"none\", \"alpha\": 1, \"facecolor\": \"#FF7F0E\", \"edgecolor\": \"none\", \"edgewidth\": 1.0, \"zorder\": 1}, {\"data\": \"data02\", \"xindex\": 0, \"yindex\": 2, \"coordinates\": \"data\", \"pathcodes\": [\"M\", \"L\", \"L\", \"L\", \"Z\"], \"id\": \"el17481981033752840\", \"dasharray\": \"none\", \"alpha\": 1, \"facecolor\": \"#FF7F0E\", \"edgecolor\": \"none\", \"edgewidth\": 1.0, \"zorder\": 1}, {\"data\": \"data03\", \"xindex\": 0, \"yindex\": 2, \"coordinates\": \"data\", \"pathcodes\": [\"M\", \"L\", \"L\", \"L\", \"Z\"], \"id\": \"el17481981033704200\", \"dasharray\": \"none\", \"alpha\": 1, \"facecolor\": \"#FF7F0E\", \"edgecolor\": \"none\", \"edgewidth\": 1.0, \"zorder\": 1}, {\"data\": \"data04\", \"xindex\": 0, \"yindex\": 2, \"coordinates\": \"data\", \"pathcodes\": [\"M\", \"L\", \"L\", \"L\", \"Z\"], \"id\": \"el17481981033704776\", \"dasharray\": \"none\", \"alpha\": 1, \"facecolor\": \"#FF7F0E\", \"edgecolor\": \"none\", \"edgewidth\": 1.0, \"zorder\": 1}, {\"data\": \"data05\", \"xindex\": 0, \"yindex\": 2, \"coordinates\": \"data\", \"pathcodes\": [\"M\", \"L\", \"L\", \"L\", \"Z\"], \"id\": \"el17481981033703624\", \"dasharray\": \"none\", \"alpha\": 1, \"facecolor\": \"#FF7F0E\", \"edgecolor\": \"none\", \"edgewidth\": 1.0, \"zorder\": 1}], \"markers\": [], \"texts\": [{\"text\": \"0\", \"position\": [1.0, 0.0], \"coordinates\": \"data\", \"h_anchor\": \"middle\", \"v_baseline\": \"auto\", \"rotation\": -0.0, \"fontsize\": 10.0, \"color\": \"#000000\", \"alpha\": 1, \"zorder\": 3, \"id\": \"el17481981034000904\"}, {\"text\": \"0\", \"position\": [2.0, 0.0], \"coordinates\": \"data\", \"h_anchor\": \"middle\", \"v_baseline\": \"auto\", \"rotation\": -0.0, \"fontsize\": 10.0, \"color\": \"#000000\", \"alpha\": 1, \"zorder\": 3, \"id\": \"el17481981034003784\"}, {\"text\": \"0\", \"position\": [3.0, 0.0], \"coordinates\": \"data\", \"h_anchor\": \"middle\", \"v_baseline\": \"auto\", \"rotation\": -0.0, \"fontsize\": 10.0, \"color\": \"#000000\", \"alpha\": 1, \"zorder\": 3, \"id\": \"el17481981034003976\"}, {\"text\": \"0\", \"position\": [4.0, 0.0], \"coordinates\": \"data\", \"h_anchor\": \"middle\", \"v_baseline\": \"auto\", \"rotation\": -0.0, \"fontsize\": 10.0, \"color\": \"#000000\", \"alpha\": 1, \"zorder\": 3, \"id\": \"el17481981033863240\"}, {\"text\": \"17\", \"position\": [5.0, 17.85], \"coordinates\": \"data\", \"h_anchor\": \"middle\", \"v_baseline\": \"auto\", \"rotation\": -0.0, \"fontsize\": 10.0, \"color\": \"#000000\", \"alpha\": 1, \"zorder\": 3, \"id\": \"el17481981033861896\"}, {\"text\": \"45\", \"position\": [6.0, 47.25], \"coordinates\": \"data\", \"h_anchor\": \"middle\", \"v_baseline\": \"auto\", \"rotation\": -0.0, \"fontsize\": 10.0, \"color\": \"#000000\", \"alpha\": 1, \"zorder\": 3, \"id\": \"el17481981033862152\"}, {\"text\": \"95\", \"position\": [7.0, 99.75], \"coordinates\": \"data\", \"h_anchor\": \"middle\", \"v_baseline\": \"auto\", \"rotation\": -0.0, \"fontsize\": 10.0, \"color\": \"#000000\", \"alpha\": 1, \"zorder\": 3, \"id\": \"el17481981033855496\"}, {\"text\": \"116\", \"position\": [8.0, 121.80000000000001], \"coordinates\": \"data\", \"h_anchor\": \"middle\", \"v_baseline\": \"auto\", \"rotation\": -0.0, \"fontsize\": 10.0, \"color\": \"#000000\", \"alpha\": 1, \"zorder\": 3, \"id\": \"el17481981033853384\"}, {\"text\": \"[0, 0, 0, 0, 17, 45, 95.0, 116.0]\", \"position\": [-0.05682890020750801, 0.5], \"coordinates\": \"axes\", \"h_anchor\": \"middle\", \"v_baseline\": \"auto\", \"rotation\": -90.0, \"fontsize\": 10.0, \"color\": \"#000000\", \"alpha\": 1, \"zorder\": 3, \"id\": \"el17481981033899976\"}], \"collections\": [], \"images\": [], \"sharex\": [], \"sharey\": []}], \"data\": {\"data01\": [[0.625, 0.0, 1.625, 2.625, 3.625, 0.0], [1.375, 0.0, 2.375, 3.375, 4.375, 0.0], [1.375, 0.0, 2.375, 3.375, 4.375, 116.0], [0.625, 0.0, 1.625, 2.625, 3.625, 116.0]], \"data02\": [[4.625, 0.0, 17.0], [5.375, 0.0, 17.0], [5.375, 17.0, 116.0], [4.625, 17.0, 116.0]], \"data03\": [[5.625, 0.0, 45.0], [6.375, 0.0, 45.0], [6.375, 45.0, 116.0], [5.625, 45.0, 116.0]], \"data04\": [[6.625, 0.0, 95.0], [7.375, 0.0, 95.0], [7.375, 95.0, 116.0], [6.625, 95.0, 116.0]], \"data05\": [[7.625, 0.0, 116.0], [8.375, 0.0, 116.0], [8.375, 116.0, 116.0], [7.625, 116.0, 116.0]]}, \"id\": \"el17481981025972488\", \"plugins\": [{\"type\": \"reset\"}, {\"type\": \"zoom\", \"button\": true, \"enabled\": false}, {\"type\": \"boxzoom\", \"button\": true, \"enabled\": false}]});\n",
       "      });\n",
       "    });\n",
       "}else{\n",
       "    // require.js not available: dynamically load d3 & mpld3\n",
       "    mpld3_load_lib(\"https://d3js.org/d3.v5.js\", function(){\n",
       "         mpld3_load_lib(\"https://mpld3.github.io/js/mpld3.v0.5.1.js\", function(){\n",
       "                 \n",
       "                 mpld3.draw_figure(\"fig_el174819810259724886884542160\", {\"width\": 684.0, \"height\": 432.0, \"axes\": [{\"bbox\": [0.125, 0.125, 0.775, 0.755], \"xlim\": [0.2375, 8.7625], \"ylim\": [0.0, 116.0], \"xdomain\": [0.2375, 8.7625], \"ydomain\": [0.0, 116.0], \"xscale\": \"linear\", \"yscale\": \"linear\", \"axes\": [{\"position\": \"bottom\", \"nticks\": 8, \"tickvalues\": [1, 2, 3, 4, 5, 6, 7, 8], \"tickformat_formatter\": \"fixed\", \"tickformat\": [\"2014-15\", \"2015-16\", \"2016-17\", \"2017-18\", \"2018-19\", \"2019-20\", \"2020-21\", \"2021-22\"], \"scale\": \"linear\", \"fontsize\": 10.0, \"grid\": {\"gridOn\": false}, \"visible\": true}, {\"position\": \"left\", \"nticks\": 7, \"tickvalues\": null, \"tickformat_formatter\": \"\", \"tickformat\": null, \"scale\": \"linear\", \"fontsize\": 10.0, \"grid\": {\"gridOn\": false}, \"visible\": true}], \"axesbg\": \"#FFFFFF\", \"axesbgalpha\": null, \"zoomable\": true, \"id\": \"el17481981033627976\", \"lines\": [], \"paths\": [{\"data\": \"data01\", \"xindex\": 0, \"yindex\": 1, \"coordinates\": \"data\", \"pathcodes\": [\"M\", \"L\", \"L\", \"L\", \"Z\"], \"id\": \"el17481981033777608\", \"dasharray\": \"none\", \"alpha\": 1, \"facecolor\": \"#1F77B4\", \"edgecolor\": \"none\", \"edgewidth\": 1.0, \"zorder\": 1}, {\"data\": \"data01\", \"xindex\": 2, \"yindex\": 1, \"coordinates\": \"data\", \"pathcodes\": [\"M\", \"L\", \"L\", \"L\", \"Z\"], \"id\": \"el17481981033797320\", \"dasharray\": \"none\", \"alpha\": 1, \"facecolor\": \"#1F77B4\", \"edgecolor\": \"none\", \"edgewidth\": 1.0, \"zorder\": 1}, {\"data\": \"data01\", \"xindex\": 3, \"yindex\": 1, \"coordinates\": \"data\", \"pathcodes\": [\"M\", \"L\", \"L\", \"L\", \"Z\"], \"id\": \"el17481981033775880\", \"dasharray\": \"none\", \"alpha\": 1, \"facecolor\": \"#1F77B4\", \"edgecolor\": \"none\", \"edgewidth\": 1.0, \"zorder\": 1}, {\"data\": \"data01\", \"xindex\": 4, \"yindex\": 1, \"coordinates\": \"data\", \"pathcodes\": [\"M\", \"L\", \"L\", \"L\", \"Z\"], \"id\": \"el17481981033775560\", \"dasharray\": \"none\", \"alpha\": 1, \"facecolor\": \"#1F77B4\", \"edgecolor\": \"none\", \"edgewidth\": 1.0, \"zorder\": 1}, {\"data\": \"data02\", \"xindex\": 0, \"yindex\": 1, \"coordinates\": \"data\", \"pathcodes\": [\"M\", \"L\", \"L\", \"L\", \"Z\"], \"id\": \"el17481981033769672\", \"dasharray\": \"none\", \"alpha\": 1, \"facecolor\": \"#1F77B4\", \"edgecolor\": \"none\", \"edgewidth\": 1.0, \"zorder\": 1}, {\"data\": \"data03\", \"xindex\": 0, \"yindex\": 1, \"coordinates\": \"data\", \"pathcodes\": [\"M\", \"L\", \"L\", \"L\", \"Z\"], \"id\": \"el17481981033767240\", \"dasharray\": \"none\", \"alpha\": 1, \"facecolor\": \"#1F77B4\", \"edgecolor\": \"none\", \"edgewidth\": 1.0, \"zorder\": 1}, {\"data\": \"data04\", \"xindex\": 0, \"yindex\": 1, \"coordinates\": \"data\", \"pathcodes\": [\"M\", \"L\", \"L\", \"L\", \"Z\"], \"id\": \"el17481981033767496\", \"dasharray\": \"none\", \"alpha\": 1, \"facecolor\": \"#1F77B4\", \"edgecolor\": \"none\", \"edgewidth\": 1.0, \"zorder\": 1}, {\"data\": \"data05\", \"xindex\": 0, \"yindex\": 1, \"coordinates\": \"data\", \"pathcodes\": [\"M\", \"L\", \"L\", \"L\", \"Z\"], \"id\": \"el17481981033767560\", \"dasharray\": \"none\", \"alpha\": 1, \"facecolor\": \"#1F77B4\", \"edgecolor\": \"none\", \"edgewidth\": 1.0, \"zorder\": 1}, {\"data\": \"data01\", \"xindex\": 0, \"yindex\": 5, \"coordinates\": \"data\", \"pathcodes\": [\"M\", \"L\", \"L\", \"L\", \"Z\"], \"id\": \"el17481981032289992\", \"dasharray\": \"none\", \"alpha\": 1, \"facecolor\": \"#FF7F0E\", \"edgecolor\": \"none\", \"edgewidth\": 1.0, \"zorder\": 1}, {\"data\": \"data01\", \"xindex\": 2, \"yindex\": 5, \"coordinates\": \"data\", \"pathcodes\": [\"M\", \"L\", \"L\", \"L\", \"Z\"], \"id\": \"el17481981033796168\", \"dasharray\": \"none\", \"alpha\": 1, \"facecolor\": \"#FF7F0E\", \"edgecolor\": \"none\", \"edgewidth\": 1.0, \"zorder\": 1}, {\"data\": \"data01\", \"xindex\": 3, \"yindex\": 5, \"coordinates\": \"data\", \"pathcodes\": [\"M\", \"L\", \"L\", \"L\", \"Z\"], \"id\": \"el17481981033759240\", \"dasharray\": \"none\", \"alpha\": 1, \"facecolor\": \"#FF7F0E\", \"edgecolor\": \"none\", \"edgewidth\": 1.0, \"zorder\": 1}, {\"data\": \"data01\", \"xindex\": 4, \"yindex\": 5, \"coordinates\": \"data\", \"pathcodes\": [\"M\", \"L\", \"L\", \"L\", \"Z\"], \"id\": \"el17481981033751496\", \"dasharray\": \"none\", \"alpha\": 1, \"facecolor\": \"#FF7F0E\", \"edgecolor\": \"none\", \"edgewidth\": 1.0, \"zorder\": 1}, {\"data\": \"data02\", \"xindex\": 0, \"yindex\": 2, \"coordinates\": \"data\", \"pathcodes\": [\"M\", \"L\", \"L\", \"L\", \"Z\"], \"id\": \"el17481981033752840\", \"dasharray\": \"none\", \"alpha\": 1, \"facecolor\": \"#FF7F0E\", \"edgecolor\": \"none\", \"edgewidth\": 1.0, \"zorder\": 1}, {\"data\": \"data03\", \"xindex\": 0, \"yindex\": 2, \"coordinates\": \"data\", \"pathcodes\": [\"M\", \"L\", \"L\", \"L\", \"Z\"], \"id\": \"el17481981033704200\", \"dasharray\": \"none\", \"alpha\": 1, \"facecolor\": \"#FF7F0E\", \"edgecolor\": \"none\", \"edgewidth\": 1.0, \"zorder\": 1}, {\"data\": \"data04\", \"xindex\": 0, \"yindex\": 2, \"coordinates\": \"data\", \"pathcodes\": [\"M\", \"L\", \"L\", \"L\", \"Z\"], \"id\": \"el17481981033704776\", \"dasharray\": \"none\", \"alpha\": 1, \"facecolor\": \"#FF7F0E\", \"edgecolor\": \"none\", \"edgewidth\": 1.0, \"zorder\": 1}, {\"data\": \"data05\", \"xindex\": 0, \"yindex\": 2, \"coordinates\": \"data\", \"pathcodes\": [\"M\", \"L\", \"L\", \"L\", \"Z\"], \"id\": \"el17481981033703624\", \"dasharray\": \"none\", \"alpha\": 1, \"facecolor\": \"#FF7F0E\", \"edgecolor\": \"none\", \"edgewidth\": 1.0, \"zorder\": 1}], \"markers\": [], \"texts\": [{\"text\": \"0\", \"position\": [1.0, 0.0], \"coordinates\": \"data\", \"h_anchor\": \"middle\", \"v_baseline\": \"auto\", \"rotation\": -0.0, \"fontsize\": 10.0, \"color\": \"#000000\", \"alpha\": 1, \"zorder\": 3, \"id\": \"el17481981034000904\"}, {\"text\": \"0\", \"position\": [2.0, 0.0], \"coordinates\": \"data\", \"h_anchor\": \"middle\", \"v_baseline\": \"auto\", \"rotation\": -0.0, \"fontsize\": 10.0, \"color\": \"#000000\", \"alpha\": 1, \"zorder\": 3, \"id\": \"el17481981034003784\"}, {\"text\": \"0\", \"position\": [3.0, 0.0], \"coordinates\": \"data\", \"h_anchor\": \"middle\", \"v_baseline\": \"auto\", \"rotation\": -0.0, \"fontsize\": 10.0, \"color\": \"#000000\", \"alpha\": 1, \"zorder\": 3, \"id\": \"el17481981034003976\"}, {\"text\": \"0\", \"position\": [4.0, 0.0], \"coordinates\": \"data\", \"h_anchor\": \"middle\", \"v_baseline\": \"auto\", \"rotation\": -0.0, \"fontsize\": 10.0, \"color\": \"#000000\", \"alpha\": 1, \"zorder\": 3, \"id\": \"el17481981033863240\"}, {\"text\": \"17\", \"position\": [5.0, 17.85], \"coordinates\": \"data\", \"h_anchor\": \"middle\", \"v_baseline\": \"auto\", \"rotation\": -0.0, \"fontsize\": 10.0, \"color\": \"#000000\", \"alpha\": 1, \"zorder\": 3, \"id\": \"el17481981033861896\"}, {\"text\": \"45\", \"position\": [6.0, 47.25], \"coordinates\": \"data\", \"h_anchor\": \"middle\", \"v_baseline\": \"auto\", \"rotation\": -0.0, \"fontsize\": 10.0, \"color\": \"#000000\", \"alpha\": 1, \"zorder\": 3, \"id\": \"el17481981033862152\"}, {\"text\": \"95\", \"position\": [7.0, 99.75], \"coordinates\": \"data\", \"h_anchor\": \"middle\", \"v_baseline\": \"auto\", \"rotation\": -0.0, \"fontsize\": 10.0, \"color\": \"#000000\", \"alpha\": 1, \"zorder\": 3, \"id\": \"el17481981033855496\"}, {\"text\": \"116\", \"position\": [8.0, 121.80000000000001], \"coordinates\": \"data\", \"h_anchor\": \"middle\", \"v_baseline\": \"auto\", \"rotation\": -0.0, \"fontsize\": 10.0, \"color\": \"#000000\", \"alpha\": 1, \"zorder\": 3, \"id\": \"el17481981033853384\"}, {\"text\": \"[0, 0, 0, 0, 17, 45, 95.0, 116.0]\", \"position\": [-0.05682890020750801, 0.5], \"coordinates\": \"axes\", \"h_anchor\": \"middle\", \"v_baseline\": \"auto\", \"rotation\": -90.0, \"fontsize\": 10.0, \"color\": \"#000000\", \"alpha\": 1, \"zorder\": 3, \"id\": \"el17481981033899976\"}], \"collections\": [], \"images\": [], \"sharex\": [], \"sharey\": []}], \"data\": {\"data01\": [[0.625, 0.0, 1.625, 2.625, 3.625, 0.0], [1.375, 0.0, 2.375, 3.375, 4.375, 0.0], [1.375, 0.0, 2.375, 3.375, 4.375, 116.0], [0.625, 0.0, 1.625, 2.625, 3.625, 116.0]], \"data02\": [[4.625, 0.0, 17.0], [5.375, 0.0, 17.0], [5.375, 17.0, 116.0], [4.625, 17.0, 116.0]], \"data03\": [[5.625, 0.0, 45.0], [6.375, 0.0, 45.0], [6.375, 45.0, 116.0], [5.625, 45.0, 116.0]], \"data04\": [[6.625, 0.0, 95.0], [7.375, 0.0, 95.0], [7.375, 95.0, 116.0], [6.625, 95.0, 116.0]], \"data05\": [[7.625, 0.0, 116.0], [8.375, 0.0, 116.0], [8.375, 116.0, 116.0], [7.625, 116.0, 116.0]]}, \"id\": \"el17481981025972488\", \"plugins\": [{\"type\": \"reset\"}, {\"type\": \"zoom\", \"button\": true, \"enabled\": false}, {\"type\": \"boxzoom\", \"button\": true, \"enabled\": false}]});\n",
       "            })\n",
       "         });\n",
       "}\n",
       "</script>"
      ],
      "text/plain": [
       "<Figure size 684x432 with 1 Axes>"
      ]
     },
     "metadata": {
      "needs_background": "light"
     },
     "output_type": "display_data"
    },
    {
     "name": "stdout",
     "output_type": "stream",
     "text": [
      "['2014-15', '2015-16', '2016-17', '2017-18', '2018-19', '2019-20', '2020-21', '2021-22']\n"
     ]
    },
    {
     "data": {
      "text/html": [
       "\n",
       "\n",
       "<style>\n",
       "\n",
       "</style>\n",
       "\n",
       "<div id=\"fig_el174819810386235603698574527\"></div>\n",
       "<script>\n",
       "function mpld3_load_lib(url, callback){\n",
       "  var s = document.createElement('script');\n",
       "  s.src = url;\n",
       "  s.async = true;\n",
       "  s.onreadystatechange = s.onload = callback;\n",
       "  s.onerror = function(){console.warn(\"failed to load library \" + url);};\n",
       "  document.getElementsByTagName(\"head\")[0].appendChild(s);\n",
       "}\n",
       "\n",
       "if(typeof(mpld3) !== \"undefined\" && mpld3._mpld3IsLoaded){\n",
       "   // already loaded: just create the figure\n",
       "   !function(mpld3){\n",
       "       \n",
       "       mpld3.draw_figure(\"fig_el174819810386235603698574527\", {\"width\": 684.0, \"height\": 432.0, \"axes\": [], \"data\": {}, \"id\": \"el17481981038623560\", \"plugins\": [{\"type\": \"reset\"}, {\"type\": \"zoom\", \"button\": true, \"enabled\": false}, {\"type\": \"boxzoom\", \"button\": true, \"enabled\": false}]});\n",
       "   }(mpld3);\n",
       "}else if(typeof define === \"function\" && define.amd){\n",
       "   // require.js is available: use it to load d3/mpld3\n",
       "   require.config({paths: {d3: \"https://d3js.org/d3.v5\"}});\n",
       "   require([\"d3\"], function(d3){\n",
       "      window.d3 = d3;\n",
       "      mpld3_load_lib(\"https://mpld3.github.io/js/mpld3.v0.5.1.js\", function(){\n",
       "         \n",
       "         mpld3.draw_figure(\"fig_el174819810386235603698574527\", {\"width\": 684.0, \"height\": 432.0, \"axes\": [], \"data\": {}, \"id\": \"el17481981038623560\", \"plugins\": [{\"type\": \"reset\"}, {\"type\": \"zoom\", \"button\": true, \"enabled\": false}, {\"type\": \"boxzoom\", \"button\": true, \"enabled\": false}]});\n",
       "      });\n",
       "    });\n",
       "}else{\n",
       "    // require.js not available: dynamically load d3 & mpld3\n",
       "    mpld3_load_lib(\"https://d3js.org/d3.v5.js\", function(){\n",
       "         mpld3_load_lib(\"https://mpld3.github.io/js/mpld3.v0.5.1.js\", function(){\n",
       "                 \n",
       "                 mpld3.draw_figure(\"fig_el174819810386235603698574527\", {\"width\": 684.0, \"height\": 432.0, \"axes\": [], \"data\": {}, \"id\": \"el17481981038623560\", \"plugins\": [{\"type\": \"reset\"}, {\"type\": \"zoom\", \"button\": true, \"enabled\": false}, {\"type\": \"boxzoom\", \"button\": true, \"enabled\": false}]});\n",
       "            })\n",
       "         });\n",
       "}\n",
       "</script>"
      ],
      "text/plain": [
       "<Figure size 684x432 with 0 Axes>"
      ]
     },
     "metadata": {},
     "output_type": "display_data"
    }
   ],
   "source": [
    "myfolder=r'E:\\Website_26_07_2020\\cmis6\\Civilworks cost\\PPT Progress Review Meeting'\n",
    "inpath=os.path.join(myfolder,'Component Wise Cost Brackup_ 08.11.2020.xlsx')\n",
    "outpath=os.path.join(myfolder,\"dframes.xlsx\")\n",
    "figpath=os.path.join(myfolder,\"graph1.png\")\n",
    "print(inpath)\n",
    "sheetName=\"Input_data\"\n",
    "completed_df=pd.read_excel(inpath,sheet_name=sheetName)\n",
    "completed_df.fillna(0,inplace=True)\n",
    "completed_df\n",
    "remaining_df=calcualteRmainingDf(completed_df)\n",
    "drawGraph(completed_df,remaining_df,figpath)"
   ]
  },
  {
   "cell_type": "code",
   "execution_count": 6,
   "metadata": {},
   "outputs": [],
   "source": [
    "myframes=[]\n",
    "mynames=[]\n",
    "myframes.append(completed_df)\n",
    "mynames.append(\"completed\")\n",
    "myframes.append(remaining_df)\n",
    "mynames.append(\"remaining\")\n",
    "saveDataFrame(myframes,outpath,mynames)\n"
   ]
  },
  {
   "cell_type": "code",
   "execution_count": null,
   "metadata": {},
   "outputs": [],
   "source": []
  }
 ],
 "metadata": {
  "kernelspec": {
   "display_name": "Python [conda env:.conda-gisenv] *",
   "language": "python",
   "name": "conda-env-.conda-gisenv-py"
  },
  "language_info": {
   "codemirror_mode": {
    "name": "ipython",
    "version": 3
   },
   "file_extension": ".py",
   "mimetype": "text/x-python",
   "name": "python",
   "nbconvert_exporter": "python",
   "pygments_lexer": "ipython3",
   "version": "3.7.7"
  }
 },
 "nbformat": 4,
 "nbformat_minor": 4
}
