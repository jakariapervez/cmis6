{
 "cells": [
  {
   "cell_type": "code",
   "execution_count": 1,
   "metadata": {},
   "outputs": [],
   "source": [
    "import pandas as pd"
   ]
  },
  {
   "cell_type": "code",
   "execution_count": 2,
   "metadata": {},
   "outputs": [],
   "source": [
    "def saveDataFrame(dataframes,filepath,names):\n",
    "    writer = pd.ExcelWriter(filepath, engine='xlsxwriter')\n",
    "    for df,sname in zip(dataframes,names):\n",
    "        df.to_excel(writer,sheet_name=sname)   \n",
    "    writer.save()"
   ]
  },
  {
   "cell_type": "code",
   "execution_count": null,
   "metadata": {},
   "outputs": [],
   "source": []
  },
  {
   "cell_type": "code",
   "execution_count": 3,
   "metadata": {},
   "outputs": [],
   "source": [
    "\"\"\"Data Processing Related Function\"\"\"\n",
    "def removeNewLine(mylist):\n",
    "    res = [] \n",
    "    for sub in mylist: \n",
    "        sub=sub.replace(\"\\n\", \"\")\n",
    "        sub=sub.replace(\" \", \"\")\n",
    "        res.append(sub) \n",
    "    return res\n",
    "def addItemCode(input,output):\n",
    "    codelist=list(output['Item Code'])\n",
    "    codelist=removeNewLine(codelist)\n",
    "    for index,row in input.iterrows():\n",
    "        q=row['Quantity']\n",
    "        r=row['Rate']\n",
    "        #a=row['Amount']\n",
    "        a=q*r\n",
    "        #code=row['Item Code'].rstrip('\\n')\n",
    "        #code=row['Item Code'].rstrip('\\n')\n",
    "        code=row['Item Code']\n",
    "        code=code.replace(\"\\n\", \"\")\n",
    "        code=code.replace(\" \", \"\")\n",
    "        cindex=codelist.index(code)\n",
    "        #print(\"code={} index={} amount={} cindex={}\".format(code,index,a,cindex))\n",
    "        output.iloc[cindex,3]=output.iloc[cindex,3]+q\n",
    "        output.iloc[cindex,4]=output.iloc[cindex,4]+a\n",
    "    return output\n",
    "def addEconomicCode(input,output):\n",
    "    codelist=list(output['Code No'])\n",
    "    #codelist=removeNewLine(codelist)\n",
    "    for index,row in input.iterrows():\n",
    "        q=row['Quantity']\n",
    "        r=row['Rate']\n",
    "        #a=row['Amount']\n",
    "        a=q*r\n",
    "        #code=row['Item Code'].rstrip('\\n')\n",
    "        #code=row['Item Code'].rstrip('\\n')\n",
    "        code=row['Economic Code']\n",
    "        #code=code.replace(\"\\n\", \"\")\n",
    "        #code=code.replace(\" \", \"\")\n",
    "        cindex=codelist.index(code)\n",
    "        #print(\"code={} index={} amount={} cindex={}\".format(code,index,a,cindex))\n",
    "        #output.iloc[cindex,3]=output.iloc[cindex,3]+q\n",
    "        output.iloc[cindex,2]=output.iloc[cindex,2]+a\n",
    "    return output\n",
    "def crateSummary(input,output,code_column_index):\n",
    "    col=output.columns[1]\n",
    "    codelist=list(output[col])\n",
    "    codelist=removeNewLine(codelist)\n",
    "    code_column_name=input.columns[code_column_index]\n",
    "    for index,row in input.iterrows():\n",
    "        q=row['Quantity']\n",
    "        r=row['Rate']\n",
    "        #a=row['Amount']\n",
    "        a=q*r\n",
    "        #code=row['Item Code'].rstrip('\\n')\n",
    "        #code=row['Item Code'].rstrip('\\n')\n",
    "        code=row[code_column_name]\n",
    "        code=code.replace(\"\\n\", \"\")\n",
    "        code=code.replace(\" \", \"\")\n",
    "        cindex=codelist.index(code)\n",
    "        #print(\"code={} index={} amount={} cindex={}\".format(code,index,a,cindex))\n",
    "        #output.iloc[cindex,3]=output.iloc[cindex,3]+q\n",
    "        output.iloc[cindex,2]=output.iloc[cindex,2]+a\n",
    "    return output\n",
    "\n",
    "    \n"
   ]
  },
  {
   "cell_type": "code",
   "execution_count": 4,
   "metadata": {},
   "outputs": [],
   "source": [
    "input_path=r'E:\\Website_26_07_2020\\cmis6\\Civilworks cost\\Dighikhanan\\Jakaria_Input_DPP.xlsx'\n",
    "output_path=r'E:\\Website_26_07_2020\\cmis6\\Civilworks cost\\Dighikhanan\\output.xlsx'"
   ]
  },
  {
   "cell_type": "code",
   "execution_count": 5,
   "metadata": {},
   "outputs": [],
   "source": [
    "sheetName='Main' \n",
    "input_df=pd.read_excel(input_path,sheet_name=sheetName)\n",
    "input_df.fillna(0,inplace=True)\n",
    "\"\"\"Reading Item code wise summary\"\"\"\n",
    "sheetName='Item_Code'\n",
    "item_code_summary_df=pd.read_excel(input_path,sheet_name=sheetName)\n",
    "item_code_summary_df.fillna(0,inplace=True)\n",
    "item_code_summary_df=addItemCode(input_df,item_code_summary_df)\n",
    "\"\"\"Economic code wise summary\"\"\"\n",
    "sheetName='Economic'\n",
    "ecoomic_code_summary_df=pd.read_excel(input_path,sheet_name=sheetName)\n",
    "ecoomic_code_summary_df.fillna(0,inplace=True)\n",
    "ecoomic_code_summary_df=addEconomicCode(input_df,ecoomic_code_summary_df)\n",
    "#ecoomic_code_summary_df\n",
    "\"\"\"Package wise summary\"\"\"\n",
    "sheetName='Package'\n",
    "pacakage_code_summary_df=pd.read_excel(input_path,sheet_name=sheetName)\n",
    "pacakage_code_summary_df.fillna(0,inplace=True)\n",
    "pacakage_code_summary_df=crateSummary(input_df,pacakage_code_summary_df,2)\n",
    "\"\"\"District wise summary\"\"\"\n",
    "sheetName='District'\n",
    "district_code_summary_df=pd.read_excel(input_path,sheet_name=sheetName)\n",
    "district_code_summary_df.fillna(0,inplace=True)\n",
    "district_code_summary_df=crateSummary(input_df,district_code_summary_df,0)\n",
    "\"\"\"Upazilla  wise summary\"\"\"\n",
    "sheetName='Upazilla'\n",
    "upazilla_code_summary_df=pd.read_excel(input_path,sheet_name=sheetName)\n",
    "upazilla_code_summary_df.fillna(0,inplace=True)\n",
    "upazilla_code_summary_df=crateSummary(input_df,upazilla_code_summary_df,1)\n",
    "\"\"\"Division  wise summary\"\"\"\n",
    "sheetName='Division'\n",
    "division_code_summary_df=pd.read_excel(input_path,sheet_name=sheetName)\n",
    "division_code_summary_df.fillna(0,inplace=True)\n",
    "division_code_summary_df=crateSummary(input_df,division_code_summary_df,3)\n",
    "\"\"\"Circle  wise summary\"\"\"\n",
    "sheetName='Circle'\n",
    "circle_code_summary_df=pd.read_excel(input_path,sheet_name=sheetName)\n",
    "circle_code_summary_df.fillna(0,inplace=True)\n",
    "circle_code_summary_df=crateSummary(input_df,circle_code_summary_df,4)\n",
    "\"\"\"Zone  wise summary\"\"\"\n",
    "sheetName='Zone'\n",
    "zone_code_summary_df=pd.read_excel(input_path,sheet_name=sheetName)\n",
    "zone_code_summary_df.fillna(0,inplace=True)\n",
    "zone_code_summary_df=crateSummary(input_df,zone_code_summary_df,5)\n"
   ]
  },
  {
   "cell_type": "code",
   "execution_count": 6,
   "metadata": {},
   "outputs": [
    {
     "data": {
      "text/plain": [
       "0      U1\n",
       "1      U1\n",
       "2      U1\n",
       "3      U1\n",
       "4      U1\n",
       "       ..\n",
       "151    U3\n",
       "152    U3\n",
       "153    U3\n",
       "154    U3\n",
       "155    U3\n",
       "Name: Upzilla Code, Length: 156, dtype: object"
      ]
     },
     "execution_count": 6,
     "metadata": {},
     "output_type": "execute_result"
    }
   ],
   "source": [
    "col=input_df.columns[1]\n",
    "input_df[col]"
   ]
  },
  {
   "cell_type": "code",
   "execution_count": 7,
   "metadata": {},
   "outputs": [],
   "source": [
    "myframes=[]\n",
    "mynames=[]\n",
    "myframes.append(input_df)\n",
    "mynames.append('original_input')\n",
    "myframes.append(item_code_summary_df)\n",
    "mynames.append('Item_Code_Summary')\n",
    "myframes.append(ecoomic_code_summary_df)\n",
    "mynames.append('ecoomic_code_summary')\n",
    "myframes.append(pacakage_code_summary_df)\n",
    "mynames.append('package_summary')\n",
    "myframes.append(district_code_summary_df)\n",
    "mynames.append('District_summary')\n",
    "myframes.append(upazilla_code_summary_df)\n",
    "mynames.append('Upailla_summary')\n",
    "myframes.append(division_code_summary_df)\n",
    "mynames.append('Division_summary')\n",
    "myframes.append(circle_code_summary_df)\n",
    "mynames.append('Circle_summary')\n",
    "myframes.append(circle_code_summary_df)\n",
    "mynames.append('Circle_summary')\n",
    "myframes.append(zone_code_summary_df)\n",
    "mynames.append('Zone_summary')\n",
    "saveDataFrame(myframes,output_path,mynames)"
   ]
  },
  {
   "cell_type": "code",
   "execution_count": null,
   "metadata": {},
   "outputs": [],
   "source": []
  }
 ],
 "metadata": {
  "kernelspec": {
   "display_name": "Python [conda env:.conda-gisenv] *",
   "language": "python",
   "name": "conda-env-.conda-gisenv-py"
  },
  "language_info": {
   "codemirror_mode": {
    "name": "ipython",
    "version": 3
   },
   "file_extension": ".py",
   "mimetype": "text/x-python",
   "name": "python",
   "nbconvert_exporter": "python",
   "pygments_lexer": "ipython3",
   "version": "3.7.7"
  }
 },
 "nbformat": 4,
 "nbformat_minor": 4
}
