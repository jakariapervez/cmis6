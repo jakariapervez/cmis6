{
 "cells": [
  {
   "cell_type": "code",
   "execution_count": 1,
   "metadata": {},
   "outputs": [],
   "source": [
    "import pandas as pd\n",
    "import os\n",
    "import math\n"
   ]
  },
  {
   "cell_type": "code",
   "execution_count": 2,
   "metadata": {},
   "outputs": [],
   "source": [
    "#functions to save data frame\n",
    "def saveDataFrame(dataframes,filepath,names):\n",
    "    writer = pd.ExcelWriter(filepath, engine='xlsxwriter')\n",
    "    for df,sname in zip(dataframes,names):\n",
    "        df.to_excel(writer,sheet_name=sname)   \n",
    "    writer.save()  "
   ]
  },
  {
   "cell_type": "code",
   "execution_count": 3,
   "metadata": {},
   "outputs": [],
   "source": [
    "def calcualteEs(F,gamma):\n",
    "    elasticity=30.0*(1-0.5*F)*math.pow(gamma,9.0)\n",
    "    elasticity=float(math.ceil(elasticity))\n",
    "    return elasticity\n",
    "def calculateHeff(B,F,gamma,sigmaNot):\n",
    "    term1=gamma*B+1.5*F*math.pow(gamma,2.5)\n",
    "    term2=8*sigmaNot\n",
    "    term3=math.log(term1/term2)\n",
    "    effective_height=1.4*B*(1-3.8*gamma-term3)\n",
    "    effective_height=round(effective_height,2)\n",
    "    return  effective_height\n",
    "\n",
    "def calcualteLiftSettlement(Heff,B,sigmaNot,Es):\n",
    "    A=0.555*math.log(Heff/B)+0.93\n",
    "    delh=(A*B*sigmaNot)/Es\n",
    "    return delh\n",
    "def calcualteContactWidth(gamma_target,Roller_Diameter):\n",
    "    B=(0.45-0.15*gamma_target)*Roller_Diameter\n",
    "    B=math.floor(B*100)\n",
    "    return B\n",
    "def calculateRequiredMinimumSigma(F,gamma_target,B):\n",
    "    term1=(F*math.pow(gamma_target,2.5))/4.0\n",
    "    term2=(gamma_target*B)/6.0\n",
    "    term3=math.exp(3.8*gamma_target-1)\n",
    "    sigma_min=(term1+term2)*term3\n",
    "    return sigma_min\n",
    "def calculateMaximumLiftThicknessFromSigma(sigma,F,gamma_target):\n",
    "    term1=math.exp(3.8*gamma_target-1)\n",
    "    term2=sigma/term1\n",
    "    term3=(F*math.pow(gamma_target,2.5))/4.0\n",
    "    term4=term2-term3\n",
    "    B=(term4*6)/gamma_target\n",
    "    return B\n",
    "    \n",
    "def calcualteMinimumComaptorWeight(F,gamma_target,Roller_diameter):\n",
    "    B=calcualteContactWidth(gamma_target,Roller_diameter)\n",
    "    B=B/100.0\n",
    "    term1=(F*math.pow(gamma_target,2.5))/4.0\n",
    "    term2=(gamma_target*B)/6.0\n",
    "    term3=math.exp(3.8*gamma_target-1)\n",
    "    sigma_min=(term1+term2)*term3\n",
    "    I=1.0\n",
    "    S=0.5\n",
    "    minimum_compactor_weight=(sigma_min*S)/(1.2*I)\n",
    "    minimum_compactor_weight=math.ceil(minimum_compactor_weight)\n",
    "    sigma_min2=math.floor(sigma_min)\n",
    "    myvalue={\"mcw\":minimum_compactor_weight,\"sigma\":sigma_min2}\n",
    "    return myvalue\n",
    "def calcualteRollerPasses(gamma_initial,gamma_final,F,Roller_diameter):\n",
    "    B=calcualteContactWidth(gamma_final,Roller_diameter)\n",
    "    myvalue=calcualteMinimumComaptorWeight(F,gamma_final,Roller_diameter)\n",
    "    sigma=myvalue[\"sigma\"]\n",
    "    t1=17.5*(1-0.5*F)\n",
    "    t2=t1/sigma\n",
    "    t3=math.pow(gamma_final,7)-math.pow(gamma_initial,7)\n",
    "    no_passes=math.ceil(t2*t3)\n",
    "    myreturn_val={\"LT\":B,\"CWT\":myvalue[\"mcw\"],\"Sigma\":myvalue[\"sigma\"],\"passes\":no_passes}    \n",
    "    return myreturn_val\n",
    "def calcualteRollerPassesForFixedLiftThickness(gamma_initial,gamma_final,F,Roller_Weight,Roller_Dia,Lift_thicness):\n",
    "    #B=calcualteContactWidth(gamma_final,Roller_diameter)\n",
    "    B=Lift_thicness/100.0  \n",
    "    B_Max=calcualteContactWidth(gamma_final,Roller_Dia)/100.00    \n",
    "    if B>B_Max:\n",
    "        B=B_Max      \n",
    "    #myvalue=calcualteMinimumComaptorWeight(F,gamma_final,Roller_diameter)\n",
    "    I=1.0\n",
    "    S=0.5\n",
    "    sigma=(Roller_Weight*1.2*I)/S\n",
    "    sigma_min=calculateRequiredMinimumSigma(F,gamma_final,B)\n",
    "    if sigma_min>sigma:\n",
    "        B_revised=calculateMaximumLiftThicknessFromSigma(sigma,F,gamma_final)\n",
    "        print(\"Lift Thicknes Revision necessary revised LT={} cm\".format(B_revised*100))\n",
    "        \n",
    "    t1=17.5*(1-0.5*F)\n",
    "    t2=t1/sigma\n",
    "    t3=math.pow(gamma_final,7)-math.pow(gamma_initial,7)\n",
    "    no_passes=math.ceil(t2*t3)\n",
    "    myreturn_val={\"LT\":B,\"Sigma\":sigma,\"passes\":no_passes}    \n",
    "    return myreturn_val  \n",
    "\n",
    "    "
   ]
  },
  {
   "cell_type": "code",
   "execution_count": 4,
   "metadata": {},
   "outputs": [
    {
     "name": "stdout",
     "output_type": "stream",
     "text": [
      "gamma_ini=1.4 Hi=2.0 sigmaNot=41.4\n",
      "gamma_ini=1.4 Hi=2.0 sigmaNot=41.4\n",
      "gamma_ini=1.4 Hi=2.0 sigmaNot=41.4\n",
      "gamma_ini=1.4 Hi=2.0 sigmaNot=41.4\n",
      "gamma_ini=1.4 Hi=2.0 sigmaNot=41.4\n",
      "gamma_ini=1.4 Hi=2.0 sigmaNot=41.4\n",
      "gamma_ini=1.4 Hi=2.0 sigmaNot=41.4\n",
      "gamma_ini=1.4 Hi=2.0 sigmaNot=41.4\n",
      "Youn's Modulus=443.0 Heff=0.29 settlement=0.027250977402278876 gamma_new=1.42\n",
      "Comapctor Weight=20 metric_ton compaction_stress=47 psi lift_thickness=22 cm\n",
      "Roller=68mton sigma=162 lift=22 cm passe=1 nos\n",
      "Lift Thicknes Revision necessary revised LT=-171.29993125384482 cm\n",
      "sigma=48.0 Thickness=0.22 no of passes=10\n"
     ]
    }
   ],
   "source": [
    "myfolder=r'F:\\website\\cmis6\\Civilworks cost\\Soil Compaction' # office computer\n",
    "input_path=os.path.join(myfolder,\"Input.xlsx\")\n",
    "output_path=os.path.join(myfolder,\"Output.xlsx\")\n",
    "sheetName=\"Parameter\"\n",
    "parameter_df=pd.read_excel(input_path,sheet_name=sheetName)\n",
    "parameter_df\n",
    "\"\"\"Extracting Design Parameter\"\"\"\n",
    "gammaInitial=parameter_df.iloc[0,2]\n",
    "liftThicknessInitial=parameter_df.iloc[1,2]\n",
    "sigmaNot=parameter_df.iloc[2,2]\n",
    "fine_percent=parameter_df.iloc[3,2]\n",
    "contact_width=parameter_df.iloc[4,2]\n",
    "Hn=liftThicknessInitial\n",
    "gamma_old=gammaInitial\n",
    "for i in range(1,9):\n",
    "    print(\"gamma_ini={} Hi={} sigmaNot={}\".format(gamma_old,Hn,sigmaNot))\n",
    "es=calcualteEs(fine_percent,gammaInitial)\n",
    "Heff= calculateHeff(contact_width,fine_percent,gammaInitial,sigmaNot)\n",
    "settlement=calcualteLiftSettlement(Heff,contact_width,sigmaNot,es)\n",
    "\n",
    "Hn1=Hn-settlement\n",
    "gamma_new=round((Hn/Hn1)*gamma_old,2)\n",
    "print(\"Youn's Modulus={} Heff={} settlement={} gamma_new={}\".format(es,Heff,settlement,gamma_new))\n",
    "#F,gamma_target,B\n",
    "myval=calcualteMinimumComaptorWeight(0.10,1.75,1.2)\n",
    "B=calcualteContactWidth(1.75,1.2)\n",
    "print(\"Comapctor Weight={} metric_ton compaction_stress={} psi lift_thickness={} cm\".format(myval[\"mcw\"],myval[\"sigma\"],B))\n",
    "myvalue=calcualteRollerPasses(1.70,1.75,0.50,1.2)\n",
    "print(\"Roller={}mton sigma={} lift={} cm passe={} nos\".format(myvalue[\"CWT\"],myvalue[\"Sigma\"],myvalue[\"LT\"],myvalue[\"passes\"]))\n",
    "myvalue=calcualteRollerPassesForFixedLiftThickness(1.39,1.75,0.66,20,1.2,22)\n",
    "print(\"sigma={} Thickness={} no of passes={}\".format(myvalue[\"Sigma\"],myvalue[\"LT\"],myvalue[\"passes\"]))"
   ]
  },
  {
   "cell_type": "code",
   "execution_count": 5,
   "metadata": {},
   "outputs": [
    {
     "data": {
      "text/plain": [
       "'F:\\\\website\\\\cmis6\\\\Civilworks cost\\\\Soil Compaction\\\\Input.xlsx'"
      ]
     },
     "execution_count": 5,
     "metadata": {},
     "output_type": "execute_result"
    }
   ],
   "source": [
    "input_path"
   ]
  },
  {
   "cell_type": "code",
   "execution_count": 6,
   "metadata": {},
   "outputs": [],
   "source": [
    "myframes=[]\n",
    "mynames=[]\n",
    "myframes.append(parameter_df)\n",
    "mynames.append(\"Input Parameter\")\n",
    "saveDataFrame(myframes,output_path,mynames)"
   ]
  },
  {
   "cell_type": "code",
   "execution_count": 7,
   "metadata": {},
   "outputs": [
    {
     "data": {
      "text/plain": [
       "2.302585092994046"
      ]
     },
     "execution_count": 7,
     "metadata": {},
     "output_type": "execute_result"
    }
   ],
   "source": [
    "math.log(10)"
   ]
  },
  {
   "cell_type": "code",
   "execution_count": null,
   "metadata": {},
   "outputs": [],
   "source": []
  }
 ],
 "metadata": {
  "kernelspec": {
   "display_name": "Python [conda env:.conda-gisenv] *",
   "language": "python",
   "name": "conda-env-.conda-gisenv-py"
  },
  "language_info": {
   "codemirror_mode": {
    "name": "ipython",
    "version": 3
   },
   "file_extension": ".py",
   "mimetype": "text/x-python",
   "name": "python",
   "nbconvert_exporter": "python",
   "pygments_lexer": "ipython3",
   "version": "3.7.7"
  }
 },
 "nbformat": 4,
 "nbformat_minor": 4
}
