{
 "cells": [
  {
   "cell_type": "code",
   "execution_count": 1,
   "metadata": {},
   "outputs": [],
   "source": [
    "import pandas as pd\n",
    "from scipy.optimize import fsolve\n",
    "import math"
   ]
  },
  {
   "cell_type": "code",
   "execution_count": 2,
   "metadata": {},
   "outputs": [],
   "source": [
    "\"\"\"Function to solve for implied risk premium\"\"\"\n",
    "def CalcualteImpliedRiskPremium(r,*args):\n",
    "    \"\"\"Parameter Description\n",
    "    Index=Stock Index\n",
    "    BCF=Base Year Cash Flow\n",
    "    g=annual growth rate\n",
    "    rf=Risk Free Rate \n",
    "    r=discount rate\n",
    "    \"\"\"\n",
    "    Index=args[0]\n",
    "    BCF=args[1]\n",
    "    g=args[2]\n",
    "    rf=args[3]    \n",
    "    S=1+g    \n",
    "    Sarray=[math.pow(S,i)*BCF for i in range(1,6)]\n",
    "    terminal_val=Sarray[4]*(1+rf)\n",
    "    Sarray.append(terminal_val)\n",
    "    terms=[Sarray[i]/(math.pow(1+r,i)) for i in range(1,6)]\n",
    "    terminal_term=Sarray[5]/((r-rf)*(math.pow(1+r,5)))\n",
    "    #print(terminal_term)\n",
    "    terms.append(terminal_term)\n",
    "    #print(terms)\n",
    "    return terms[0]+terms[1]+terms[2]+terms[3]+terms[4]+terms[5]-Index"
   ]
  },
  {
   "cell_type": "code",
   "execution_count": 3,
   "metadata": {},
   "outputs": [
    {
     "name": "stdout",
     "output_type": "stream",
     "text": [
      "implied risk premium=0.09228422067636727\n"
     ]
    }
   ],
   "source": [
    "rpremium=fsolve(CalcualteImpliedRiskPremium,0.20,args=(61272,3028,0.06,0.0345))\n",
    "print(\"implied risk premium={}\".format(rpremium[0]))"
   ]
  },
  {
   "cell_type": "code",
   "execution_count": null,
   "metadata": {},
   "outputs": [],
   "source": []
  },
  {
   "cell_type": "code",
   "execution_count": null,
   "metadata": {},
   "outputs": [],
   "source": []
  }
 ],
 "metadata": {
  "kernelspec": {
   "display_name": "Python [conda env:.conda-gisenv] *",
   "language": "python",
   "name": "conda-env-.conda-gisenv-py"
  },
  "language_info": {
   "codemirror_mode": {
    "name": "ipython",
    "version": 3
   },
   "file_extension": ".py",
   "mimetype": "text/x-python",
   "name": "python",
   "nbconvert_exporter": "python",
   "pygments_lexer": "ipython3",
   "version": "3.7.7"
  }
 },
 "nbformat": 4,
 "nbformat_minor": 4
}
