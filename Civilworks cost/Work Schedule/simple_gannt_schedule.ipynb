{
 "cells": [
  {
   "cell_type": "code",
   "execution_count": 1,
   "metadata": {},
   "outputs": [],
   "source": [
    "from collections import defaultdict \n",
    "import pandas as pd\n",
    "import os"
   ]
  },
  {
   "cell_type": "code",
   "execution_count": 2,
   "metadata": {},
   "outputs": [],
   "source": [
    "myfolder=r'E:\\Website_26_07_2020\\cmis6\\Civilworks cost\\Work Schedule'\n",
    "inputpath=os.path.join(myfolder,'Schdule Input.xlsx')"
   ]
  },
  {
   "cell_type": "code",
   "execution_count": 3,
   "metadata": {},
   "outputs": [],
   "source": [
    "\"\"\"Class to represent graph\"\"\"\n",
    "class Graph:\n",
    "    def __init__(self,vertices):\n",
    "        self.graph=defaultdict(list)\n",
    "        self.V=vertices\n",
    "        self.indeg0=[True]*self.V\n",
    "        self.outdeg0=[True]*self.V\n",
    "        self.edges=[]\n",
    "        self.adj=defaultdict(list)\n",
    "    # function to add an edge to graph \n",
    "    def addEdge(self,u,v):\n",
    "        self.graph[u].append(v)\n",
    "        edge=(u,v)\n",
    "        print(edge)\n",
    "        self.edges.append(edge)\n",
    "        # set indeg0[v] <- false \n",
    "        self.indeg0[v] = False  \n",
    "        # set outdeg0[u] <- false \n",
    "        self.outdeg0[u] = False\n",
    "        #print(self.graph[u])\n",
    "    # A recursive function used by topologicalSort \n",
    "    def topologicalSortUtil(self,v,visited,stack):\n",
    "        #mark the current node as visited\n",
    "        visited[v]=True\n",
    "        # Recur for all the vertices adjacent to this vertex      \n",
    "\n",
    "        for i in self.graph[v]:\n",
    "            if visited[i]==False:\n",
    "                self.topologicalSortUtil(i,visited,stack)\n",
    "         # Mark the current node as visited. \n",
    "        stack.insert(0,v)\n",
    "    # The function to do Topological Sort. It uses recursive  \n",
    "    # topologicalSortUtil() \n",
    "    def topologicalSort(self):\n",
    "        # Mark all the vertices as not visited\n",
    "        visited=[False]*self.V\n",
    "        stack=[]\n",
    "        # Call the recursive helper function to store Topological \n",
    "        # Sort starting from all vertices one by one \n",
    "        for i in range(self.V):\n",
    "            if visited[i]==False:\n",
    "                self.topologicalSortUtil(i,visited,stack)\n",
    "        print (stack)\n",
    "    def displayGraph(self):\n",
    "        print(\"number of vertices={}\".format(self.V))\n",
    "        print(self.graph)\n",
    "        print(\"indegree={}\".format(self.indeg0))\n",
    "        print(\"outdegree={}\".format(self.outdeg0))\n",
    "        print(\"edges of the graph......\")\n",
    "        print(self.edges)\n",
    "        \n"
   ]
  },
  {
   "cell_type": "code",
   "execution_count": 4,
   "metadata": {},
   "outputs": [],
   "source": [
    "#Python program to print topological sorting of a DAG \n",
    "from collections import defaultdict \n",
    "\n",
    "#Class to represent a graph \n",
    "class Graph2: \n",
    "\tdef __init__(self,vertices): \n",
    "\t\tself.graph = defaultdict(list) #dictionary containing adjacency List \n",
    "\t\tself.V = vertices #No. of vertices \n",
    "\n",
    "\t# function to add an edge to graph \n",
    "\tdef addEdge(self,u,v): \n",
    "\t\tself.graph[u].append(v) \n",
    "\n",
    "\t# A recursive function used by topologicalSort \n",
    "\tdef topologicalSortUtil(self,v,visited,stack): \n",
    "\n",
    "\t\t# Mark the current node as visited. \n",
    "\t\tvisited[v] = True\n",
    "\n",
    "\t\t# Recur for all the vertices adjacent to this vertex \n",
    "\t\tfor i in self.graph[v]: \n",
    "\t\t\tif visited[i] == False: \n",
    "\t\t\t\tself.topologicalSortUtil(i,visited,stack) \n",
    "\n",
    "\t\t# Push current vertex to stack which stores result \n",
    "\t\tstack.insert(0,v) \n",
    "\n",
    "\t# The function to do Topological Sort. It uses recursive \n",
    "\t# topologicalSortUtil() \n",
    "\tdef topologicalSort(self): \n",
    "\t\t# Mark all the vertices as not visited \n",
    "\t\tvisited = [False]*self.V \n",
    "\t\tstack =[] \n",
    "\n",
    "\t\t# Call the recursive helper function to store Topological \n",
    "\t\t# Sort starting from all vertices one by one \n",
    "\t\tfor i in range(self.V): \n",
    "\t\t\tif visited[i] == False: \n",
    "\t\t\t\tself.topologicalSortUtil(i,visited,stack) \n",
    "\n",
    "\t\t# Print contents of stack \n",
    "\t\tprint (stack )\n",
    "\n",
    "\n"
   ]
  },
  {
   "cell_type": "code",
   "execution_count": 5,
   "metadata": {},
   "outputs": [
    {
     "name": "stdout",
     "output_type": "stream",
     "text": [
      "(5, 2)\n",
      "(5, 0)\n",
      "(4, 0)\n",
      "(4, 1)\n",
      "(2, 3)\n",
      "(3, 1)\n",
      "Following is a Topological Sort of the given graph\n",
      "[5, 4, 2, 3, 1, 0]\n"
     ]
    }
   ],
   "source": [
    "g= Graph(6) \n",
    "g.addEdge(5, 2); \n",
    "g.addEdge(5, 0); \n",
    "g.addEdge(4, 0); \n",
    "g.addEdge(4, 1); \n",
    "g.addEdge(2, 3); \n",
    "g.addEdge(3, 1); \n",
    "  \n",
    "print (\"Following is a Topological Sort of the given graph\")\n",
    "g.topologicalSort() "
   ]
  },
  {
   "cell_type": "code",
   "execution_count": 6,
   "metadata": {},
   "outputs": [],
   "source": [
    "def text2List(input_text):\n",
    "    split_text=input_text.split(',')\n",
    "    output_list=[int(x) for x in split_text ]\n",
    "    return output_list\n",
    "    \n",
    "def buildGraph(input_df):\n",
    "    shape=input_df.shape\n",
    "    g=Graph(shape[0])\n",
    "    print(shape)\n",
    "    for index,row in input_df.iterrows():\n",
    "        v=row['TaskNo']\n",
    "        if row['Predecessor']!=-1:\n",
    "            pred_text=str(row['Predecessor'])\n",
    "            length=len(pred_text)\n",
    "            if length >1:\n",
    "                sources=text2List(pred_text)\n",
    "                #print(sources)\n",
    "            else:\n",
    "                sources=[int(pred_text)]\n",
    "            #print(\"sources={}\".format(sources))\n",
    "            for u in sources:\n",
    "                g.addEdge(u,v)\n",
    "            #print(\"predecosseo no={} value={}\".format(length,pred_text))\n",
    "            #print(len(pred_text))\n",
    "            #print(pred_text)\n",
    "    \n",
    "    return g\n",
    "\n",
    "        "
   ]
  },
  {
   "cell_type": "code",
   "execution_count": 7,
   "metadata": {},
   "outputs": [
    {
     "data": {
      "text/html": [
       "<div>\n",
       "<style scoped>\n",
       "    .dataframe tbody tr th:only-of-type {\n",
       "        vertical-align: middle;\n",
       "    }\n",
       "\n",
       "    .dataframe tbody tr th {\n",
       "        vertical-align: top;\n",
       "    }\n",
       "\n",
       "    .dataframe thead th {\n",
       "        text-align: right;\n",
       "    }\n",
       "</style>\n",
       "<table border=\"1\" class=\"dataframe\">\n",
       "  <thead>\n",
       "    <tr style=\"text-align: right;\">\n",
       "      <th></th>\n",
       "      <th>TaskNo</th>\n",
       "      <th>Name</th>\n",
       "      <th>Duration</th>\n",
       "      <th>Predecessor</th>\n",
       "      <th>order</th>\n",
       "    </tr>\n",
       "  </thead>\n",
       "  <tbody>\n",
       "    <tr>\n",
       "      <th>0</th>\n",
       "      <td>0</td>\n",
       "      <td>Contract</td>\n",
       "      <td>0</td>\n",
       "      <td>4,5</td>\n",
       "      <td>0.0</td>\n",
       "    </tr>\n",
       "    <tr>\n",
       "      <th>1</th>\n",
       "      <td>1</td>\n",
       "      <td>Mobilization and Site Preparation</td>\n",
       "      <td>7</td>\n",
       "      <td>3,4</td>\n",
       "      <td>1.0</td>\n",
       "    </tr>\n",
       "    <tr>\n",
       "      <th>2</th>\n",
       "      <td>2</td>\n",
       "      <td>CC Block Manufacture(30X30X30)</td>\n",
       "      <td>16</td>\n",
       "      <td>5</td>\n",
       "      <td>7.0</td>\n",
       "    </tr>\n",
       "    <tr>\n",
       "      <th>3</th>\n",
       "      <td>3</td>\n",
       "      <td>CC Block Manufacture(40X40X20)</td>\n",
       "      <td>16</td>\n",
       "      <td>2</td>\n",
       "      <td>6.0</td>\n",
       "    </tr>\n",
       "    <tr>\n",
       "      <th>4</th>\n",
       "      <td>4</td>\n",
       "      <td>Embankment Construction</td>\n",
       "      <td>34</td>\n",
       "      <td>-1</td>\n",
       "      <td>2.0</td>\n",
       "    </tr>\n",
       "    <tr>\n",
       "      <th>5</th>\n",
       "      <td>5</td>\n",
       "      <td>Placing Sand Filter</td>\n",
       "      <td>10</td>\n",
       "      <td>-1</td>\n",
       "      <td>3.0</td>\n",
       "    </tr>\n",
       "  </tbody>\n",
       "</table>\n",
       "</div>"
      ],
      "text/plain": [
       "   TaskNo                               Name  Duration Predecessor  order\n",
       "0       0                           Contract         0         4,5    0.0\n",
       "1       1  Mobilization and Site Preparation         7         3,4    1.0\n",
       "2       2     CC Block Manufacture(30X30X30)        16           5    7.0\n",
       "3       3     CC Block Manufacture(40X40X20)        16           2    6.0\n",
       "4       4            Embankment Construction        34          -1    2.0\n",
       "5       5                Placing Sand Filter        10          -1    3.0"
      ]
     },
     "execution_count": 7,
     "metadata": {},
     "output_type": "execute_result"
    }
   ],
   "source": [
    "sheetName='WBS'\n",
    "myframe=pd.read_excel(inputpath,sheet_name=sheetName)\n",
    "myframe.fillna(0,inplace=True)\n",
    "myframe"
   ]
  },
  {
   "cell_type": "code",
   "execution_count": 8,
   "metadata": {},
   "outputs": [
    {
     "name": "stdout",
     "output_type": "stream",
     "text": [
      "(6, 5)\n",
      "(4, 0)\n",
      "(5, 0)\n",
      "(3, 1)\n",
      "(4, 1)\n",
      "(5, 2)\n",
      "(2, 3)\n",
      "[5, 4, 2, 3, 1, 0]\n"
     ]
    }
   ],
   "source": [
    "g=buildGraph(myframe)\n",
    "g.topologicalSort() "
   ]
  },
  {
   "cell_type": "code",
   "execution_count": 9,
   "metadata": {},
   "outputs": [
    {
     "name": "stdout",
     "output_type": "stream",
     "text": [
      "number of vertices=6\n",
      "defaultdict(<class 'list'>, {4: [0, 1], 5: [0, 2], 3: [1], 2: [3], 0: [], 1: []})\n",
      "indegree=[False, False, False, False, True, True]\n",
      "outdegree=[True, True, False, False, False, False]\n",
      "edges of the graph......\n",
      "[(4, 0), (5, 0), (3, 1), (4, 1), (5, 2), (2, 3)]\n"
     ]
    }
   ],
   "source": [
    "g.displayGraph()"
   ]
  },
  {
   "cell_type": "code",
   "execution_count": null,
   "metadata": {},
   "outputs": [],
   "source": []
  }
 ],
 "metadata": {
  "kernelspec": {
   "display_name": "Python [conda env:.conda-gisenv] *",
   "language": "python",
   "name": "conda-env-.conda-gisenv-py"
  },
  "language_info": {
   "codemirror_mode": {
    "name": "ipython",
    "version": 3
   },
   "file_extension": ".py",
   "mimetype": "text/x-python",
   "name": "python",
   "nbconvert_exporter": "python",
   "pygments_lexer": "ipython3",
   "version": "3.7.7"
  }
 },
 "nbformat": 4,
 "nbformat_minor": 4
}
